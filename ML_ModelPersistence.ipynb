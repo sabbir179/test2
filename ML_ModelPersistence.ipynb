{
  "nbformat": 4,
  "nbformat_minor": 0,
  "metadata": {
    "colab": {
      "name": "ML_ModelPersistence.ipynb",
      "provenance": [],
      "authorship_tag": "ABX9TyNE/Cf1Zpx4wgiXSPZHoeP0",
      "include_colab_link": true
    },
    "kernelspec": {
      "name": "python3",
      "display_name": "Python 3"
    },
    "language_info": {
      "name": "python"
    }
  },
  "cells": [
    {
      "cell_type": "markdown",
      "metadata": {
        "id": "view-in-github",
        "colab_type": "text"
      },
      "source": [
        "<a href=\"https://colab.research.google.com/github/sabbir179/test2/blob/main/ML_ModelPersistence.ipynb\" target=\"_parent\"><img src=\"https://colab.research.google.com/assets/colab-badge.svg\" alt=\"Open In Colab\"/></a>"
      ]
    },
    {
      "cell_type": "code",
      "execution_count": null,
      "metadata": {
        "id": "YFw9udfEv1xK"
      },
      "outputs": [],
      "source": [
        "#impot require libraries and dataset\n",
        "from sklearn.datasets import load_iris\n",
        "iris_dataset = load_iris()"
      ]
    },
    {
      "cell_type": "code",
      "source": [
        "#view feature names of the dataset\n",
        "iris_dataset.feature_names"
      ],
      "metadata": {
        "colab": {
          "base_uri": "https://localhost:8080/"
        },
        "id": "UM1w9-h6whv-",
        "outputId": "bed90167-3b79-4855-a8ec-664d976c72a0"
      },
      "execution_count": null,
      "outputs": [
        {
          "output_type": "execute_result",
          "data": {
            "text/plain": [
              "['sepal length (cm)',\n",
              " 'sepal width (cm)',\n",
              " 'petal length (cm)',\n",
              " 'petal width (cm)']"
            ]
          },
          "metadata": {},
          "execution_count": 2
        }
      ]
    },
    {
      "cell_type": "code",
      "source": [
        "#view target of the dataset\n",
        "iris_dataset.target"
      ],
      "metadata": {
        "colab": {
          "base_uri": "https://localhost:8080/"
        },
        "id": "4lzQINREwvTu",
        "outputId": "e3b8c395-fd98-47de-d07e-dcdda23c5be1"
      },
      "execution_count": null,
      "outputs": [
        {
          "output_type": "execute_result",
          "data": {
            "text/plain": [
              "array([0, 0, 0, 0, 0, 0, 0, 0, 0, 0, 0, 0, 0, 0, 0, 0, 0, 0, 0, 0, 0, 0,\n",
              "       0, 0, 0, 0, 0, 0, 0, 0, 0, 0, 0, 0, 0, 0, 0, 0, 0, 0, 0, 0, 0, 0,\n",
              "       0, 0, 0, 0, 0, 0, 1, 1, 1, 1, 1, 1, 1, 1, 1, 1, 1, 1, 1, 1, 1, 1,\n",
              "       1, 1, 1, 1, 1, 1, 1, 1, 1, 1, 1, 1, 1, 1, 1, 1, 1, 1, 1, 1, 1, 1,\n",
              "       1, 1, 1, 1, 1, 1, 1, 1, 1, 1, 1, 1, 2, 2, 2, 2, 2, 2, 2, 2, 2, 2,\n",
              "       2, 2, 2, 2, 2, 2, 2, 2, 2, 2, 2, 2, 2, 2, 2, 2, 2, 2, 2, 2, 2, 2,\n",
              "       2, 2, 2, 2, 2, 2, 2, 2, 2, 2, 2, 2, 2, 2, 2, 2, 2, 2])"
            ]
          },
          "metadata": {},
          "execution_count": 3
        }
      ]
    },
    {
      "cell_type": "code",
      "source": [
        "#define features and target objects\n",
        "X_feature = iris_dataset.data\n",
        "Y_target = iris_dataset.target"
      ],
      "metadata": {
        "id": "rDk5CODiw1UK"
      },
      "execution_count": null,
      "outputs": []
    },
    {
      "cell_type": "code",
      "source": [
        "#create object with new values for prediction\n",
        "X_new = [[3,5,4,1], [5,3,4,2]]"
      ],
      "metadata": {
        "id": "lyzVcuRhxJvf"
      },
      "execution_count": null,
      "outputs": []
    },
    {
      "cell_type": "code",
      "source": [
        "#use the longistic regression estimator\n",
        "from sklearn.linear_model import LogisticRegression\n",
        "logreg = LogisticRegression()"
      ],
      "metadata": {
        "id": "0h4JTsZRxZLO"
      },
      "execution_count": null,
      "outputs": []
    },
    {
      "cell_type": "code",
      "source": [
        "#fit data into the Logistic regression estimator\n",
        "\n",
        "logreg.fit(X_feature, Y_target)"
      ],
      "metadata": {
        "colab": {
          "base_uri": "https://localhost:8080/"
        },
        "id": "bUS1goWhyTI5",
        "outputId": "bafd2a1d-8d2c-4527-c3ac-dde4a898e92b"
      },
      "execution_count": 16,
      "outputs": [
        {
          "output_type": "stream",
          "name": "stderr",
          "text": [
            "/usr/local/lib/python3.7/dist-packages/sklearn/linear_model/_logistic.py:818: ConvergenceWarning: lbfgs failed to converge (status=1):\n",
            "STOP: TOTAL NO. of ITERATIONS REACHED LIMIT.\n",
            "\n",
            "Increase the number of iterations (max_iter) or scale the data as shown in:\n",
            "    https://scikit-learn.org/stable/modules/preprocessing.html\n",
            "Please also refer to the documentation for alternative solver options:\n",
            "    https://scikit-learn.org/stable/modules/linear_model.html#logistic-regression\n",
            "  extra_warning_msg=_LOGISTIC_SOLVER_CONVERGENCE_MSG,\n"
          ]
        },
        {
          "output_type": "execute_result",
          "data": {
            "text/plain": [
              "LogisticRegression()"
            ]
          },
          "metadata": {},
          "execution_count": 16
        }
      ]
    },
    {
      "cell_type": "code",
      "source": [
        "# predict the outcome using Logistic regression estimator\n",
        "logreg.predict(X_new)"
      ],
      "metadata": {
        "colab": {
          "base_uri": "https://localhost:8080/"
        },
        "id": "LYnf_N7WykRg",
        "outputId": "d71e1817-6fec-4d93-967e-99fdcf33f30c"
      },
      "execution_count": null,
      "outputs": [
        {
          "output_type": "execute_result",
          "data": {
            "text/plain": [
              "array([0, 1])"
            ]
          },
          "metadata": {},
          "execution_count": 8
        }
      ]
    },
    {
      "cell_type": "code",
      "source": [
        "# import library for model persistence\n",
        "import pickle as pkl"
      ],
      "metadata": {
        "id": "NfGsAICe0WyQ"
      },
      "execution_count": 9,
      "outputs": []
    },
    {
      "cell_type": "code",
      "source": [
        "# use dumps method to persist the model\n",
        "persist_model = pkl.dumps(logreg)\n",
        "persist_model"
      ],
      "metadata": {
        "colab": {
          "base_uri": "https://localhost:8080/"
        },
        "id": "fBKQmZVVDjWR",
        "outputId": "daf72e5e-282f-448c-b51b-5c4b945500f8"
      },
      "execution_count": 10,
      "outputs": [
        {
          "output_type": "execute_result",
          "data": {
            "text/plain": [
              "b'\\x80\\x03csklearn.linear_model._logistic\\nLogisticRegression\\nq\\x00)\\x81q\\x01}q\\x02(X\\x07\\x00\\x00\\x00penaltyq\\x03X\\x02\\x00\\x00\\x00l2q\\x04X\\x04\\x00\\x00\\x00dualq\\x05\\x89X\\x03\\x00\\x00\\x00tolq\\x06G?\\x1a6\\xe2\\xeb\\x1cC-X\\x01\\x00\\x00\\x00Cq\\x07G?\\xf0\\x00\\x00\\x00\\x00\\x00\\x00X\\r\\x00\\x00\\x00fit_interceptq\\x08\\x88X\\x11\\x00\\x00\\x00intercept_scalingq\\tK\\x01X\\x0c\\x00\\x00\\x00class_weightq\\nNX\\x0c\\x00\\x00\\x00random_stateq\\x0bNX\\x06\\x00\\x00\\x00solverq\\x0cX\\x05\\x00\\x00\\x00lbfgsq\\rX\\x08\\x00\\x00\\x00max_iterq\\x0eKdX\\x0b\\x00\\x00\\x00multi_classq\\x0fX\\x04\\x00\\x00\\x00autoq\\x10X\\x07\\x00\\x00\\x00verboseq\\x11K\\x00X\\n\\x00\\x00\\x00warm_startq\\x12\\x89X\\x06\\x00\\x00\\x00n_jobsq\\x13NX\\x08\\x00\\x00\\x00l1_ratioq\\x14NX\\x0e\\x00\\x00\\x00n_features_in_q\\x15K\\x04X\\x08\\x00\\x00\\x00classes_q\\x16cnumpy.core.multiarray\\n_reconstruct\\nq\\x17cnumpy\\nndarray\\nq\\x18K\\x00\\x85q\\x19C\\x01bq\\x1a\\x87q\\x1bRq\\x1c(K\\x01K\\x03\\x85q\\x1dcnumpy\\ndtype\\nq\\x1eX\\x02\\x00\\x00\\x00i8q\\x1f\\x89\\x88\\x87q Rq!(K\\x03X\\x01\\x00\\x00\\x00<q\"NNNJ\\xff\\xff\\xff\\xffJ\\xff\\xff\\xff\\xffK\\x00tq#b\\x89C\\x18\\x00\\x00\\x00\\x00\\x00\\x00\\x00\\x00\\x01\\x00\\x00\\x00\\x00\\x00\\x00\\x00\\x02\\x00\\x00\\x00\\x00\\x00\\x00\\x00q$tq%bX\\x07\\x00\\x00\\x00n_iter_q&h\\x17h\\x18K\\x00\\x85q\\'h\\x1a\\x87q(Rq)(K\\x01K\\x01\\x85q*h\\x1eX\\x02\\x00\\x00\\x00i4q+\\x89\\x88\\x87q,Rq-(K\\x03h\"NNNJ\\xff\\xff\\xff\\xffJ\\xff\\xff\\xff\\xffK\\x00tq.b\\x89C\\x04d\\x00\\x00\\x00q/tq0bX\\x05\\x00\\x00\\x00coef_q1h\\x17h\\x18K\\x00\\x85q2h\\x1a\\x87q3Rq4(K\\x01K\\x03K\\x04\\x86q5h\\x1eX\\x02\\x00\\x00\\x00f8q6\\x89\\x88\\x87q7Rq8(K\\x03h\"NNNJ\\xff\\xff\\xff\\xffJ\\xff\\xff\\xff\\xffK\\x00tq9b\\x89C`\\x00\\xf2\\x0b\\xc2`\\xcd\\xda\\xbf\\x92Mp\\xc0\\xe9\\xf1\\xee?}\\xd7j\\xa1\\x00+\\x04\\xc0\\x00\\xa2w\\xcb\\xc9X\\xf1\\xbf\\xeb\\xedQ\\x9e\\xf4\\xff\\xe0?s\\xb6\\xe1\\x01\\xe9$\\xd4\\xbf\\x92\\x0e(\\xfc\\\\\\x9c\\xc9\\xbf\\xdc\\xf2iX\\x06[\\xee\\xbf\\xfc\\x9f_\\xea!\\xca\\xbc\\xbf\\x84r\\x7f?u\\xdf\\xe4\\xbf\\xbeX-q\\xc6\\xc4\\x05@\\xd3M\\xd6{&C\\x00@q:tq;bX\\n\\x00\\x00\\x00intercept_q<h\\x17h\\x18K\\x00\\x85q=h\\x1a\\x87q>Rq?(K\\x01K\\x03\\x85q@h8\\x89C\\x18\\xb6\\x7f]\\x02E\\xae#@\\x82iQ\\x11k\\xbc\\x01@\\xc3\\xd9\\xb1\\xc6_\\x1d(\\xc0qAtqBbX\\x10\\x00\\x00\\x00_sklearn_versionqCX\\x05\\x00\\x00\\x001.0.2qDub.'"
            ]
          },
          "metadata": {},
          "execution_count": 10
        }
      ]
    },
    {
      "cell_type": "code",
      "source": [
        "# use joblib.dump to persist the model to a file\n",
        "import joblib as joblib\n",
        "joblib.dump(logreg, 'regresfilename.pkl')"
      ],
      "metadata": {
        "colab": {
          "base_uri": "https://localhost:8080/"
        },
        "id": "KtI7cl6vD4jJ",
        "outputId": "e97c4335-1391-445b-f458-39b46ebdfd2c"
      },
      "execution_count": 12,
      "outputs": [
        {
          "output_type": "execute_result",
          "data": {
            "text/plain": [
              "['regresfilename.pkl']"
            ]
          },
          "metadata": {},
          "execution_count": 12
        }
      ]
    },
    {
      "cell_type": "code",
      "source": [
        "#use joblib.load to persist the model to a file\n",
        "#create new estimator from the saved model\n",
        "new_logreg_estimator = joblib.load('regresfilename.pkl')"
      ],
      "metadata": {
        "id": "anTo4aFuEZZW"
      },
      "execution_count": 17,
      "outputs": []
    },
    {
      "cell_type": "code",
      "source": [
        "# view the new estimator\n",
        "new_logreg_estimator"
      ],
      "metadata": {
        "colab": {
          "base_uri": "https://localhost:8080/"
        },
        "id": "aN5aqct8G35t",
        "outputId": "26c9426f-509c-4007-f7f6-dceb25e06a03"
      },
      "execution_count": 18,
      "outputs": [
        {
          "output_type": "execute_result",
          "data": {
            "text/plain": [
              "LogisticRegression()"
            ]
          },
          "metadata": {},
          "execution_count": 18
        }
      ]
    },
    {
      "cell_type": "code",
      "source": [
        "# validate and use new estimator to predict\n",
        "new_logreg_estimator.predict(X_new)"
      ],
      "metadata": {
        "colab": {
          "base_uri": "https://localhost:8080/"
        },
        "id": "zwxLUQkGG92g",
        "outputId": "8ef3daa8-5127-4ea2-dd94-c74d28b2d528"
      },
      "execution_count": 19,
      "outputs": [
        {
          "output_type": "execute_result",
          "data": {
            "text/plain": [
              "array([0, 1])"
            ]
          },
          "metadata": {},
          "execution_count": 19
        }
      ]
    },
    {
      "cell_type": "code",
      "source": [
        ""
      ],
      "metadata": {
        "id": "iiqNluiqHPyH"
      },
      "execution_count": null,
      "outputs": []
    }
  ]
}