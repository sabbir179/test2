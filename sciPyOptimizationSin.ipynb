{
  "nbformat": 4,
  "nbformat_minor": 0,
  "metadata": {
    "colab": {
      "name": "sciPyOptimizationSin.ipynb",
      "provenance": [],
      "authorship_tag": "ABX9TyPCPKjbFGizdKYjG6m26ePz",
      "include_colab_link": true
    },
    "kernelspec": {
      "name": "python3",
      "display_name": "Python 3"
    },
    "language_info": {
      "name": "python"
    }
  },
  "cells": [
    {
      "cell_type": "markdown",
      "metadata": {
        "id": "view-in-github",
        "colab_type": "text"
      },
      "source": [
        "<a href=\"https://colab.research.google.com/github/sabbir179/test2/blob/main/sciPyOptimizationSin.ipynb\" target=\"_parent\"><img src=\"https://colab.research.google.com/assets/colab-badge.svg\" alt=\"Open In Colab\"/></a>"
      ]
    },
    {
      "cell_type": "markdown",
      "source": [
        "SciPy Sub-package: Optimization\n"
      ],
      "metadata": {
        "id": "AoJuo8mFstUY"
      }
    },
    {
      "cell_type": "code",
      "source": [
        "# import numpy an optimize from scipy\n",
        "import numpy as np\n",
        "from scipy import optimize"
      ],
      "metadata": {
        "id": "L8-qLSP0szmY"
      },
      "execution_count": 2,
      "outputs": []
    },
    {
      "cell_type": "code",
      "source": [
        "# define function for X^2 + 5 sinx\n",
        "def f(x):\n",
        "  return x**2 + 5*np.sin(x)"
      ],
      "metadata": {
        "id": "5PCGZRQcs5Qy"
      },
      "execution_count": 9,
      "outputs": []
    },
    {
      "cell_type": "code",
      "source": [
        "# Perform optimize minimize function using bfgs method and options\n",
        "minimaValue = optimize.minimize(f,x0=2,method='bfgs',options={'disp':True})"
      ],
      "metadata": {
        "colab": {
          "base_uri": "https://localhost:8080/"
        },
        "id": "EqQ_ShdotEZL",
        "outputId": "dd9e8394-0a8e-49c3-ea3b-f2400196e287"
      },
      "execution_count": 8,
      "outputs": [
        {
          "output_type": "stream",
          "name": "stdout",
          "text": [
            "Optimization terminated successfully.\n",
            "         Current function value: -3.246394\n",
            "         Iterations: 5\n",
            "         Function evaluations: 27\n",
            "         Gradient evaluations: 9\n"
          ]
        }
      ]
    },
    {
      "cell_type": "code",
      "source": [
        "# Perform optimize minimize function using bfgs method and without options\n",
        "minimaValueWithoutOpt = optimize.minimize(f,x0=2,method='bfgs')"
      ],
      "metadata": {
        "id": "mUOAdbnBtXa8"
      },
      "execution_count": 7,
      "outputs": []
    },
    {
      "cell_type": "code",
      "source": [
        "minimaValueWithoutOpt"
      ],
      "metadata": {
        "colab": {
          "base_uri": "https://localhost:8080/"
        },
        "id": "VYXw0i5Stryy",
        "outputId": "c80f57a5-f409-49a7-e4d3-0491f013697e"
      },
      "execution_count": 6,
      "outputs": [
        {
          "output_type": "execute_result",
          "data": {
            "text/plain": [
              "      fun: -3.2463942726915196\n",
              " hess_inv: array([[0.15445831]])\n",
              "      jac: array([-4.47034836e-07])\n",
              "  message: 'Optimization terminated successfully.'\n",
              "     nfev: 27\n",
              "      nit: 5\n",
              "     njev: 9\n",
              "   status: 0\n",
              "  success: True\n",
              "        x: array([-1.11051058])"
            ]
          },
          "metadata": {},
          "execution_count": 6
        }
      ]
    },
    {
      "cell_type": "code",
      "source": [
        ""
      ],
      "metadata": {
        "id": "nLSzJ38ytypa"
      },
      "execution_count": null,
      "outputs": []
    }
  ]
}