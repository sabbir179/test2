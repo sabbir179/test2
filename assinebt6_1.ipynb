{
  "nbformat": 4,
  "nbformat_minor": 0,
  "metadata": {
    "colab": {
      "name": "assinebt6_1.ipynb",
      "provenance": [],
      "authorship_tag": "ABX9TyPbOTeyUwSFZ72F2VsJPhSi",
      "include_colab_link": true
    },
    "kernelspec": {
      "name": "python3",
      "display_name": "Python 3"
    },
    "language_info": {
      "name": "python"
    }
  },
  "cells": [
    {
      "cell_type": "markdown",
      "metadata": {
        "id": "view-in-github",
        "colab_type": "text"
      },
      "source": [
        "<a href=\"https://colab.research.google.com/github/sabbir179/test2/blob/main/assinebt6_1.ipynb\" target=\"_parent\"><img src=\"https://colab.research.google.com/assets/colab-badge.svg\" alt=\"Open In Colab\"/></a>"
      ]
    },
    {
      "cell_type": "code",
      "execution_count": 1,
      "metadata": {
        "id": "04qPxWCLQSZN"
      },
      "outputs": [],
      "source": [
        "# import required Libraries\n",
        "import numpy as np\n",
        "from scipy import linalg"
      ]
    },
    {
      "cell_type": "code",
      "source": [
        "# Test has 30 questions and worth 150 marks\n",
        "# True and False questions worth 4 marks each\n",
        "# multiple choice questions worth 9 points each\n",
        "\n",
        "# let x is the number of true/false questions\n",
        "# let y is the number of multiple choice questions\n",
        "\n",
        "# (x + y =30)\n",
        "# (4x + 9y = 150)\n",
        "\n",
        "testQuestionVariable = np.array([[1,1],[4,9]])\n",
        "testQuestionValue = np.array([30,150])\n"
      ],
      "metadata": {
        "id": "JvQYmQ7ORFpk"
      },
      "execution_count": 4,
      "outputs": []
    },
    {
      "cell_type": "code",
      "source": [
        "# use linalg function of Scipy\n",
        "# use solve method to solve the linear equation and find value for x and y\n",
        "\n",
        "linalg.solve(testQuestionVariable,testQuestionValue)\n",
        "\n"
      ],
      "metadata": {
        "colab": {
          "base_uri": "https://localhost:8080/"
        },
        "id": "qysB7dptRmhM",
        "outputId": "f890e053-cd1d-48a1-beab-7e3ef31565aa"
      },
      "execution_count": 5,
      "outputs": [
        {
          "output_type": "execute_result",
          "data": {
            "text/plain": [
              "array([24.,  6.])"
            ]
          },
          "metadata": {},
          "execution_count": 5
        }
      ]
    },
    {
      "cell_type": "code",
      "source": [
        ""
      ],
      "metadata": {
        "id": "xCbnN9kzSlFg"
      },
      "execution_count": null,
      "outputs": []
    }
  ]
}