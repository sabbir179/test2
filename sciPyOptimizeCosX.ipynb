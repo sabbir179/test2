{
  "nbformat": 4,
  "nbformat_minor": 0,
  "metadata": {
    "colab": {
      "name": "sciPyOptimizeCosX.ipynb",
      "provenance": [],
      "authorship_tag": "ABX9TyPYfvldP0Pwa+sJGwV8d+HY",
      "include_colab_link": true
    },
    "kernelspec": {
      "name": "python3",
      "display_name": "Python 3"
    },
    "language_info": {
      "name": "python"
    }
  },
  "cells": [
    {
      "cell_type": "markdown",
      "metadata": {
        "id": "view-in-github",
        "colab_type": "text"
      },
      "source": [
        "<a href=\"https://colab.research.google.com/github/sabbir179/test2/blob/main/sciPyOptimizeCosX.ipynb\" target=\"_parent\"><img src=\"https://colab.research.google.com/assets/colab-badge.svg\" alt=\"Open In Colab\"/></a>"
      ]
    },
    {
      "cell_type": "code",
      "execution_count": 4,
      "metadata": {
        "id": "GD3lo1zNwY3P"
      },
      "outputs": [],
      "source": [
        "# define function for X + 3.5 cosX\n",
        "import numpy as np\n",
        "from scipy.optimize import root\n",
        "def rootfunc(x):\n",
        "  return x + 3.5 * np.cos(x)"
      ]
    },
    {
      "cell_type": "code",
      "source": [
        "# Pass X value in argu\n",
        "rootValue = root(rootfunc, 0.3)"
      ],
      "metadata": {
        "id": "ZCgp8aIEwn4D"
      },
      "execution_count": 2,
      "outputs": []
    },
    {
      "cell_type": "code",
      "source": [
        "rootValue"
      ],
      "metadata": {
        "colab": {
          "base_uri": "https://localhost:8080/"
        },
        "id": "PXHUckwqwt9i",
        "outputId": "6c7daa63-1c90-4fcd-87a2-3a139f83cee2"
      },
      "execution_count": 3,
      "outputs": [
        {
          "output_type": "execute_result",
          "data": {
            "text/plain": [
              "    fjac: array([[-1.]])\n",
              "     fun: array([0.])\n",
              " message: 'The solution converged.'\n",
              "    nfev: 14\n",
              "     qtf: array([-8.32889313e-13])\n",
              "       r: array([-4.28198145])\n",
              "  status: 1\n",
              " success: True\n",
              "       x: array([-1.21597614])"
            ]
          },
          "metadata": {},
          "execution_count": 3
        }
      ]
    },
    {
      "cell_type": "code",
      "source": [
        ""
      ],
      "metadata": {
        "id": "x6yAe-ibwwIY"
      },
      "execution_count": null,
      "outputs": []
    }
  ]
}