{
  "nbformat": 4,
  "nbformat_minor": 0,
  "metadata": {
    "colab": {
      "name": "ML_pipeline.ipynb",
      "provenance": [],
      "authorship_tag": "ABX9TyMSnj4ZnJeZpkYKfqNlA4bQ",
      "include_colab_link": true
    },
    "kernelspec": {
      "name": "python3",
      "display_name": "Python 3"
    },
    "language_info": {
      "name": "python"
    }
  },
  "cells": [
    {
      "cell_type": "markdown",
      "metadata": {
        "id": "view-in-github",
        "colab_type": "text"
      },
      "source": [
        "<a href=\"https://colab.research.google.com/github/sabbir179/test2/blob/main/ML_pipeline.ipynb\" target=\"_parent\"><img src=\"https://colab.research.google.com/assets/colab-badge.svg\" alt=\"Open In Colab\"/></a>"
      ]
    },
    {
      "cell_type": "markdown",
      "source": [
        "Import the required libraries and models (estimators)"
      ],
      "metadata": {
        "id": "9TwxcbzysaaL"
      }
    },
    {
      "cell_type": "code",
      "source": [
        "#import pipeline class\n",
        "from sklearn.pipeline import Pipeline\n",
        "\n",
        "#import linear estimator\n",
        "from sklearn.linear_model import LinearRegression\n",
        "\n",
        "#import PCA estimator for dimensionality reduction\n",
        "from sklearn.decomposition import PCA"
      ],
      "metadata": {
        "id": "BoAHZ2Lusipt"
      },
      "execution_count": 1,
      "outputs": []
    },
    {
      "cell_type": "markdown",
      "source": [
        "Chain the estimators together"
      ],
      "metadata": {
        "id": "mKfUBaZ3tdRj"
      }
    },
    {
      "cell_type": "code",
      "source": [
        "estimator = [('dim_reduction', PCA()), ('linear_model', LinearRegression)]"
      ],
      "metadata": {
        "id": "U4AUgbYNtXJ-"
      },
      "execution_count": 2,
      "outputs": []
    },
    {
      "cell_type": "markdown",
      "source": [
        "Put the chain of estimators in a pipeline object"
      ],
      "metadata": {
        "id": "Yp9ZeAhjt9Xc"
      }
    },
    {
      "cell_type": "code",
      "source": [
        "pipleline_estimator = Pipeline(estimator)"
      ],
      "metadata": {
        "id": "u9Jl6kwPt5fn"
      },
      "execution_count": 3,
      "outputs": []
    },
    {
      "cell_type": "markdown",
      "source": [
        "Check the chain of estimators"
      ],
      "metadata": {
        "id": "ZUKMm2G_uOqu"
      }
    },
    {
      "cell_type": "code",
      "source": [
        "pipleline_estimator"
      ],
      "metadata": {
        "colab": {
          "base_uri": "https://localhost:8080/"
        },
        "id": "-IXsEtiKuNl8",
        "outputId": "5ba20c62-b670-43f2-d2cd-158eeb73c267"
      },
      "execution_count": 4,
      "outputs": [
        {
          "output_type": "execute_result",
          "data": {
            "text/plain": [
              "Pipeline(steps=[('dim_reduction', PCA()),\n",
              "                ('linear_model',\n",
              "                 <class 'sklearn.linear_model._base.LinearRegression'>)])"
            ]
          },
          "metadata": {},
          "execution_count": 4
        }
      ]
    },
    {
      "cell_type": "markdown",
      "source": [
        "View first step"
      ],
      "metadata": {
        "id": "WewCZIJOunZz"
      }
    },
    {
      "cell_type": "code",
      "source": [
        "pipleline_estimator.steps[0]"
      ],
      "metadata": {
        "colab": {
          "base_uri": "https://localhost:8080/"
        },
        "id": "gJNk92vYuYav",
        "outputId": "32ff658a-28fe-42a3-8872-ce276d09109c"
      },
      "execution_count": 5,
      "outputs": [
        {
          "output_type": "execute_result",
          "data": {
            "text/plain": [
              "('dim_reduction', PCA())"
            ]
          },
          "metadata": {},
          "execution_count": 5
        }
      ]
    },
    {
      "cell_type": "markdown",
      "source": [
        "View second step"
      ],
      "metadata": {
        "id": "rzs661KOu4Wa"
      }
    },
    {
      "cell_type": "code",
      "source": [
        "pipleline_estimator.steps[1]"
      ],
      "metadata": {
        "colab": {
          "base_uri": "https://localhost:8080/"
        },
        "id": "-1HIY4kauzM-",
        "outputId": "07fe692a-b3e0-4dfa-db9f-f0564f2e15d3"
      },
      "execution_count": 6,
      "outputs": [
        {
          "output_type": "execute_result",
          "data": {
            "text/plain": [
              "('linear_model', sklearn.linear_model._base.LinearRegression)"
            ]
          },
          "metadata": {},
          "execution_count": 6
        }
      ]
    },
    {
      "cell_type": "markdown",
      "source": [
        "View all steps in pipeline"
      ],
      "metadata": {
        "id": "VlVOcF0evMWp"
      }
    },
    {
      "cell_type": "code",
      "source": [
        "pipleline_estimator.steps"
      ],
      "metadata": {
        "colab": {
          "base_uri": "https://localhost:8080/"
        },
        "id": "yjE6VG0RvKEd",
        "outputId": "4cf34399-9c3f-40f4-bc64-2c4411e39376"
      },
      "execution_count": 7,
      "outputs": [
        {
          "output_type": "execute_result",
          "data": {
            "text/plain": [
              "[('dim_reduction', PCA()),\n",
              " ('linear_model', sklearn.linear_model._base.LinearRegression)]"
            ]
          },
          "metadata": {},
          "execution_count": 7
        }
      ]
    },
    {
      "cell_type": "code",
      "source": [
        ""
      ],
      "metadata": {
        "id": "GdAtrNYOvTIJ"
      },
      "execution_count": null,
      "outputs": []
    }
  ]
}