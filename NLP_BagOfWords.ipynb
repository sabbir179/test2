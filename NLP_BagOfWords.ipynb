{
  "nbformat": 4,
  "nbformat_minor": 0,
  "metadata": {
    "colab": {
      "name": "NLP_BagOfWords.ipynb",
      "provenance": [],
      "authorship_tag": "ABX9TyOZnjNIS471PPwsLXbGVQUQ",
      "include_colab_link": true
    },
    "kernelspec": {
      "name": "python3",
      "display_name": "Python 3"
    },
    "language_info": {
      "name": "python"
    }
  },
  "cells": [
    {
      "cell_type": "markdown",
      "metadata": {
        "id": "view-in-github",
        "colab_type": "text"
      },
      "source": [
        "<a href=\"https://colab.research.google.com/github/sabbir179/test2/blob/main/NLP_BagOfWords.ipynb\" target=\"_parent\"><img src=\"https://colab.research.google.com/assets/colab-badge.svg\" alt=\"Open In Colab\"/></a>"
      ]
    },
    {
      "cell_type": "code",
      "execution_count": 12,
      "metadata": {
        "id": "I6jfn5wYXdYu"
      },
      "outputs": [],
      "source": [
        "#import required library\n",
        "from sklearn.feature_extraction.text import CountVectorizer"
      ]
    },
    {
      "cell_type": "code",
      "source": [
        "#instantiate the vectortizer\n",
        "vectorizer = CountVectorizer()"
      ],
      "metadata": {
        "id": "hqNsvKcBiYlj"
      },
      "execution_count": 13,
      "outputs": []
    },
    {
      "cell_type": "code",
      "source": [
        "#create 3 documents\n",
        "document1 = 'Hi How are you'\n",
        "document2 = 'today is a very very very pleasant day and we can have some fun funfun'\n",
        "document3 = 'This was an amazing experience'"
      ],
      "metadata": {
        "id": "YyzOfJ39i_RU"
      },
      "execution_count": 14,
      "outputs": []
    },
    {
      "cell_type": "code",
      "source": [
        "#put them together\n",
        "listofdocuments = [document1, document2, document3]"
      ],
      "metadata": {
        "id": "d2pkRnPA2bq6"
      },
      "execution_count": 15,
      "outputs": []
    },
    {
      "cell_type": "code",
      "source": [
        "#fit them as bag of words\n",
        "bag_of_words = vectorizer.fit(listofdocuments)"
      ],
      "metadata": {
        "id": "ex3WUr8M2uSt"
      },
      "execution_count": 16,
      "outputs": []
    },
    {
      "cell_type": "code",
      "source": [
        "#check bag of words\n",
        "bag_of_words"
      ],
      "metadata": {
        "colab": {
          "base_uri": "https://localhost:8080/"
        },
        "id": "4Y0XA_EH3icQ",
        "outputId": "d9510823-f78f-4479-e0fd-a63e0f9e8bee"
      },
      "execution_count": 17,
      "outputs": [
        {
          "output_type": "execute_result",
          "data": {
            "text/plain": [
              "CountVectorizer()"
            ]
          },
          "metadata": {},
          "execution_count": 17
        }
      ]
    },
    {
      "cell_type": "code",
      "source": [
        "#apply transform methon\n",
        "bag_of_words = vectorizer.transform(listofdocuments)"
      ],
      "metadata": {
        "id": "Z-8-XDQl3wft"
      },
      "execution_count": 18,
      "outputs": []
    },
    {
      "cell_type": "code",
      "source": [
        "#print bag of words\n",
        "print(bag_of_words)"
      ],
      "metadata": {
        "colab": {
          "base_uri": "https://localhost:8080/"
        },
        "id": "h-EXUeUZ4w2u",
        "outputId": "a2d2706e-d4ce-4b69-ed0b-03e42bb550e1"
      },
      "execution_count": 19,
      "outputs": [
        {
          "output_type": "stream",
          "name": "stdout",
          "text": [
            "  (0, 3)\t1\n",
            "  (0, 10)\t1\n",
            "  (0, 11)\t1\n",
            "  (0, 20)\t1\n",
            "  (1, 2)\t1\n",
            "  (1, 4)\t1\n",
            "  (1, 5)\t1\n",
            "  (1, 7)\t1\n",
            "  (1, 8)\t1\n",
            "  (1, 9)\t1\n",
            "  (1, 12)\t1\n",
            "  (1, 13)\t1\n",
            "  (1, 14)\t1\n",
            "  (1, 16)\t1\n",
            "  (1, 17)\t3\n",
            "  (1, 19)\t1\n",
            "  (2, 0)\t1\n",
            "  (2, 1)\t1\n",
            "  (2, 6)\t1\n",
            "  (2, 15)\t1\n",
            "  (2, 18)\t1\n"
          ]
        }
      ]
    },
    {
      "cell_type": "code",
      "source": [
        "#verify the vacabulary for repeated word\n",
        "print(vectorizer.vocabulary_.get('very'))\n",
        "print(vectorizer.vocabulary_.get('fun'))"
      ],
      "metadata": {
        "colab": {
          "base_uri": "https://localhost:8080/"
        },
        "id": "_5F6bbRS48an",
        "outputId": "683cd152-7d4e-4e6e-94ee-9299fb3f3447"
      },
      "execution_count": 20,
      "outputs": [
        {
          "output_type": "stream",
          "name": "stdout",
          "text": [
            "17\n",
            "7\n"
          ]
        }
      ]
    },
    {
      "cell_type": "code",
      "source": [
        "#check the type of bag of words \n",
        "type(bag_of_words)"
      ],
      "metadata": {
        "colab": {
          "base_uri": "https://localhost:8080/"
        },
        "id": "AwmhilGf6Bwq",
        "outputId": "7ed7eb6f-d761-4b5d-f3ac-03fb39fd8b53"
      },
      "execution_count": 21,
      "outputs": [
        {
          "output_type": "execute_result",
          "data": {
            "text/plain": [
              "scipy.sparse.csr.csr_matrix"
            ]
          },
          "metadata": {},
          "execution_count": 21
        }
      ]
    },
    {
      "cell_type": "code",
      "source": [
        ""
      ],
      "metadata": {
        "id": "8n8Bs1GC6O3Y"
      },
      "execution_count": null,
      "outputs": []
    },
    {
      "cell_type": "code",
      "source": [
        ""
      ],
      "metadata": {
        "id": "UoxBJwXF3uTP"
      },
      "execution_count": null,
      "outputs": []
    },
    {
      "cell_type": "code",
      "source": [
        ""
      ],
      "metadata": {
        "id": "V6zdewJj3oS8"
      },
      "execution_count": null,
      "outputs": []
    }
  ]
}