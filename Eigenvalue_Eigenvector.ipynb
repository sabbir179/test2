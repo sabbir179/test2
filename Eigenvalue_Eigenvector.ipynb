{
  "nbformat": 4,
  "nbformat_minor": 0,
  "metadata": {
    "colab": {
      "name": "Eigenvalue_Eigenvector.ipynb",
      "provenance": [],
      "authorship_tag": "ABX9TyOfhe8R2fftGfSEt3ftRuSg",
      "include_colab_link": true
    },
    "kernelspec": {
      "name": "python3",
      "display_name": "Python 3"
    },
    "language_info": {
      "name": "python"
    }
  },
  "cells": [
    {
      "cell_type": "markdown",
      "metadata": {
        "id": "view-in-github",
        "colab_type": "text"
      },
      "source": [
        "<a href=\"https://colab.research.google.com/github/sabbir179/test2/blob/main/Eigenvalue_Eigenvector.ipynb\" target=\"_parent\"><img src=\"https://colab.research.google.com/assets/colab-badge.svg\" alt=\"Open In Colab\"/></a>"
      ]
    },
    {
      "cell_type": "markdown",
      "source": [
        "SciPy - Eigenvalues and Eigenvector"
      ],
      "metadata": {
        "id": "dNLYeon9MLs8"
      }
    },
    {
      "cell_type": "code",
      "execution_count": 1,
      "metadata": {
        "id": "uPpY6u84Iv22"
      },
      "outputs": [],
      "source": [
        "# import the required libraries\n",
        "import numpy as np\n",
        "from scipy import linalg"
      ]
    },
    {
      "cell_type": "code",
      "source": [
        "#test_data matrix - (rating on scale of 10)\n",
        "test_rating_data = np.array([[5,8],[7,9]])\n",
        "eigenValues, eigenVector = linalg.eig(test_rating_data)\n",
        "first_eigen, second_eigen = eigenValues"
      ],
      "metadata": {
        "id": "pboKv_3kI9AJ"
      },
      "execution_count": 6,
      "outputs": []
    },
    {
      "cell_type": "code",
      "source": [
        "# print eigenvalues (first and second eigenvalues)\n",
        "print(first_eigen, second_eigen)"
      ],
      "metadata": {
        "colab": {
          "base_uri": "https://localhost:8080/"
        },
        "id": "AmVDk8dpJFCo",
        "outputId": "9a45003c-fd2b-4b7a-c8f3-d8989e860fd9"
      },
      "execution_count": 7,
      "outputs": [
        {
          "output_type": "stream",
          "name": "stdout",
          "text": [
            "(-0.745966692414834+0j) (14.745966692414834+0j)\n"
          ]
        }
      ]
    },
    {
      "cell_type": "code",
      "source": [
        "# print first eigenvector\n",
        "print(eigenVector[:,0])"
      ],
      "metadata": {
        "colab": {
          "base_uri": "https://localhost:8080/"
        },
        "id": "-h1KLt24JNHx",
        "outputId": "7bc6fb03-a320-438b-94f4-ab6676f8bbfe"
      },
      "execution_count": 8,
      "outputs": [
        {
          "output_type": "stream",
          "name": "stdout",
          "text": [
            "[-0.81220939  0.58336601]\n"
          ]
        }
      ]
    },
    {
      "cell_type": "code",
      "source": [
        "# print second eigenvector\n",
        "print(eigenVector[:,1])"
      ],
      "metadata": {
        "colab": {
          "base_uri": "https://localhost:8080/"
        },
        "id": "QrpYzya2JR83",
        "outputId": "6bcbcd99-8f57-4b31-ee18-5fb700444c67"
      },
      "execution_count": 9,
      "outputs": [
        {
          "output_type": "stream",
          "name": "stdout",
          "text": [
            "[-0.63447346 -0.77294465]\n"
          ]
        }
      ]
    }
  ]
}