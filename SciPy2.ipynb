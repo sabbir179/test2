{
  "nbformat": 4,
  "nbformat_minor": 0,
  "metadata": {
    "colab": {
      "name": "SciPy2.ipynb",
      "provenance": [],
      "collapsed_sections": [],
      "authorship_tag": "ABX9TyPGsUkOpt07k9YNWE8f4sUq",
      "include_colab_link": true
    },
    "kernelspec": {
      "name": "python3",
      "display_name": "Python 3"
    },
    "language_info": {
      "name": "python"
    }
  },
  "cells": [
    {
      "cell_type": "markdown",
      "metadata": {
        "id": "view-in-github",
        "colab_type": "text"
      },
      "source": [
        "<a href=\"https://colab.research.google.com/github/sabbir179/test2/blob/main/SciPy2.ipynb\" target=\"_parent\"><img src=\"https://colab.research.google.com/assets/colab-badge.svg\" alt=\"Open In Colab\"/></a>"
      ]
    },
    {
      "cell_type": "code",
      "execution_count": null,
      "metadata": {
        "id": "-QKpV4Id6YMg"
      },
      "outputs": [],
      "source": [
        ""
      ]
    },
    {
      "cell_type": "markdown",
      "source": [
        "SciPy Sub-package: Integration"
      ],
      "metadata": {
        "id": "jVOFSwVMdDOk"
      }
    },
    {
      "cell_type": "code",
      "source": [
        "# Import integrate subpackage\n",
        "import scipy.integrate as integrate"
      ],
      "metadata": {
        "id": "2c072FgbdMcv"
      },
      "execution_count": 3,
      "outputs": []
    },
    {
      "cell_type": "code",
      "source": [
        "# Define function for x + y\n",
        "def f(x,y):\n",
        "  return x + y\n",
        "integrate.dblquad(f, 0,1,lambda x: 0, lambda x:2)"
      ],
      "metadata": {
        "colab": {
          "base_uri": "https://localhost:8080/"
        },
        "id": "NMg-WFT1dceC",
        "outputId": "dd87d5c8-4a2f-482a-a100-6b92417a4674"
      },
      "execution_count": 4,
      "outputs": [
        {
          "output_type": "execute_result",
          "data": {
            "text/plain": [
              "(3.0, 4.436070580899685e-14)"
            ]
          },
          "metadata": {},
          "execution_count": 4
        }
      ]
    },
    {
      "cell_type": "code",
      "source": [
        ""
      ],
      "metadata": {
        "id": "NlCr0WZ_dzq0"
      },
      "execution_count": null,
      "outputs": []
    }
  ]
}