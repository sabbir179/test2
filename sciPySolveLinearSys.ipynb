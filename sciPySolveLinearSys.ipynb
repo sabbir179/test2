{
  "nbformat": 4,
  "nbformat_minor": 0,
  "metadata": {
    "colab": {
      "name": "Untitled13.ipynb",
      "provenance": [],
      "authorship_tag": "ABX9TyOuDixTt6bAbnuexfOpcICH",
      "include_colab_link": true
    },
    "kernelspec": {
      "name": "python3",
      "display_name": "Python 3"
    },
    "language_info": {
      "name": "python"
    }
  },
  "cells": [
    {
      "cell_type": "markdown",
      "metadata": {
        "id": "view-in-github",
        "colab_type": "text"
      },
      "source": [
        "<a href=\"https://colab.research.google.com/github/sabbir179/test2/blob/main/sciPySolveLinearSys.ipynb\" target=\"_parent\"><img src=\"https://colab.research.google.com/assets/colab-badge.svg\" alt=\"Open In Colab\"/></a>"
      ]
    },
    {
      "cell_type": "markdown",
      "source": [
        "SciPy sub package - Linear Algebra \n",
        "Solve Liner Systems\n",
        "Linear equations:\n",
        "\"2x + 3y + z = 21\"\n",
        "\"-x + 5y + 4z = 9\"\n",
        "\"3x + 2y + 9z = 6\""
      ],
      "metadata": {
        "id": "1AEjwYRuEQ-W"
      }
    },
    {
      "cell_type": "code",
      "source": [
        "# Import linalg\n",
        "import numpy as np\n",
        "from scipy import linalg"
      ],
      "metadata": {
        "id": "dJLyE6u6EMOf"
      },
      "execution_count": 2,
      "outputs": []
    },
    {
      "cell_type": "code",
      "source": [
        "numArray = np.array([[2,3,1],[-1,5,4],[3,2,9]])"
      ],
      "metadata": {
        "id": "nrDZ50SMEcio"
      },
      "execution_count": 3,
      "outputs": []
    },
    {
      "cell_type": "code",
      "source": [
        "numArrValue = np.array([21,9,6])"
      ],
      "metadata": {
        "id": "M3lgSeJwEnBi"
      },
      "execution_count": 4,
      "outputs": []
    },
    {
      "cell_type": "code",
      "source": [
        "# use solve method\n",
        "linalg.solve(numArray, numArrValue)"
      ],
      "metadata": {
        "colab": {
          "base_uri": "https://localhost:8080/"
        },
        "id": "4vh-bEMZEsp7",
        "outputId": "190d1eca-c71e-4110-c243-648ff2367425"
      },
      "execution_count": 6,
      "outputs": [
        {
          "output_type": "execute_result",
          "data": {
            "text/plain": [
              "array([ 4.95,  4.35, -1.95])"
            ]
          },
          "metadata": {},
          "execution_count": 6
        }
      ]
    },
    {
      "cell_type": "code",
      "source": [
        ""
      ],
      "metadata": {
        "id": "7WdtQAWWE0or"
      },
      "execution_count": null,
      "outputs": []
    }
  ]
}