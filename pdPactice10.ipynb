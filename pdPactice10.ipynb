{
  "nbformat": 4,
  "nbformat_minor": 0,
  "metadata": {
    "colab": {
      "name": "pdPactice10.ipynb",
      "provenance": [],
      "authorship_tag": "ABX9TyNiNGcdv5Fo7D/ROZZazIAr",
      "include_colab_link": true
    },
    "kernelspec": {
      "name": "python3",
      "display_name": "Python 3"
    },
    "language_info": {
      "name": "python"
    }
  },
  "cells": [
    {
      "cell_type": "markdown",
      "metadata": {
        "id": "view-in-github",
        "colab_type": "text"
      },
      "source": [
        "<a href=\"https://colab.research.google.com/github/sabbir179/test2/blob/main/pdPactice10.ipynb\" target=\"_parent\"><img src=\"https://colab.research.google.com/assets/colab-badge.svg\" alt=\"Open In Colab\"/></a>"
      ]
    },
    {
      "cell_type": "markdown",
      "source": [
        "Handling Missing Values"
      ],
      "metadata": {
        "id": "uLeaPsQACzdm"
      }
    },
    {
      "cell_type": "code",
      "source": [
        "import pandas as pd"
      ],
      "metadata": {
        "id": "PoB1VIw_C3LN"
      },
      "execution_count": 1,
      "outputs": []
    },
    {
      "cell_type": "code",
      "source": [
        "#declare first series\n",
        "first_serise = pd.Series([1,2,3,4,5], index=['a','b','c','d','e'])"
      ],
      "metadata": {
        "id": "02EPkECEDAIk"
      },
      "execution_count": 2,
      "outputs": []
    },
    {
      "cell_type": "code",
      "source": [
        "#declear second series \n",
        "second_series = pd.Series([10,20,30,40,50], index=['c','e','f','g','h'])"
      ],
      "metadata": {
        "id": "8z_ktwcbDU9i"
      },
      "execution_count": 3,
      "outputs": []
    },
    {
      "cell_type": "code",
      "source": [
        "sum_of_series = first_serise + second_series"
      ],
      "metadata": {
        "id": "SagmhuY2DrQi"
      },
      "execution_count": 4,
      "outputs": []
    },
    {
      "cell_type": "code",
      "source": [
        "sum_of_series"
      ],
      "metadata": {
        "colab": {
          "base_uri": "https://localhost:8080/"
        },
        "id": "oHhFRgzfD2Xg",
        "outputId": "fef3a322-1037-4c83-fc22-64833229c96a"
      },
      "execution_count": 5,
      "outputs": [
        {
          "output_type": "execute_result",
          "data": {
            "text/plain": [
              "a     NaN\n",
              "b     NaN\n",
              "c    13.0\n",
              "d     NaN\n",
              "e    25.0\n",
              "f     NaN\n",
              "g     NaN\n",
              "h     NaN\n",
              "dtype: float64"
            ]
          },
          "metadata": {},
          "execution_count": 5
        }
      ]
    },
    {
      "cell_type": "code",
      "source": [
        "# drop NaN(Not a Number) values from dataset\n",
        "dropna_s = sum_of_series.dropna()"
      ],
      "metadata": {
        "id": "mU4Z2fWSD53y"
      },
      "execution_count": 6,
      "outputs": []
    },
    {
      "cell_type": "code",
      "source": [
        " # The dropna fuction drops all the values with uncommon indices\n",
        " dropna_s"
      ],
      "metadata": {
        "colab": {
          "base_uri": "https://localhost:8080/"
        },
        "id": "6R5K49Z-EbK4",
        "outputId": "33c134a8-2ca6-48f5-aa8a-9ec6f37c67b5"
      },
      "execution_count": 7,
      "outputs": [
        {
          "output_type": "execute_result",
          "data": {
            "text/plain": [
              "c    13.0\n",
              "e    25.0\n",
              "dtype: float64"
            ]
          },
          "metadata": {},
          "execution_count": 7
        }
      ]
    },
    {
      "cell_type": "code",
      "source": [
        "# The fillna function fills all the uncommon indices with a number instead of dropping them\n",
        "#Fill NaN (Not a Number) values with Zeroes (0)\n",
        "\n",
        "fillna_s = sum_of_series.fillna(0)"
      ],
      "metadata": {
        "id": "bBr232uXFYv_"
      },
      "execution_count": 8,
      "outputs": []
    },
    {
      "cell_type": "code",
      "source": [
        "fillna_s"
      ],
      "metadata": {
        "colab": {
          "base_uri": "https://localhost:8080/"
        },
        "id": "Wri_6vdKF_Jf",
        "outputId": "d17083bf-77f4-42ca-df0a-e3cf0ed2a1e8"
      },
      "execution_count": 9,
      "outputs": [
        {
          "output_type": "execute_result",
          "data": {
            "text/plain": [
              "a     0.0\n",
              "b     0.0\n",
              "c    13.0\n",
              "d     0.0\n",
              "e    25.0\n",
              "f     0.0\n",
              "g     0.0\n",
              "h     0.0\n",
              "dtype: float64"
            ]
          },
          "metadata": {},
          "execution_count": 9
        }
      ]
    },
    {
      "cell_type": "code",
      "source": [
        "# fill values with zeroes before performing adding operation for missing indices\n",
        "fill_NaN_with_zeros_before_sum = first_serise.add(second_series, fill_value=0)"
      ],
      "metadata": {
        "id": "kpuQDkaQGCro"
      },
      "execution_count": 11,
      "outputs": []
    },
    {
      "cell_type": "code",
      "source": [
        "fill_NaN_with_zeros_before_sum"
      ],
      "metadata": {
        "colab": {
          "base_uri": "https://localhost:8080/"
        },
        "id": "WOojZsYnVrif",
        "outputId": "4ba24166-5b69-48ca-d961-2e0aabe76cb6"
      },
      "execution_count": 12,
      "outputs": [
        {
          "output_type": "execute_result",
          "data": {
            "text/plain": [
              "a     1.0\n",
              "b     2.0\n",
              "c    13.0\n",
              "d     4.0\n",
              "e    25.0\n",
              "f    30.0\n",
              "g    40.0\n",
              "h    50.0\n",
              "dtype: float64"
            ]
          },
          "metadata": {},
          "execution_count": 12
        }
      ]
    },
    {
      "cell_type": "code",
      "source": [
        ""
      ],
      "metadata": {
        "id": "3WMX9iL2VvYh"
      },
      "execution_count": null,
      "outputs": []
    },
    {
      "cell_type": "code",
      "source": [
        ""
      ],
      "metadata": {
        "id": "UoAFnGY6FU69"
      },
      "execution_count": null,
      "outputs": []
    },
    {
      "cell_type": "code",
      "source": [
        ""
      ],
      "metadata": {
        "id": "s9MatyeQEdml"
      },
      "execution_count": null,
      "outputs": []
    }
  ]
}