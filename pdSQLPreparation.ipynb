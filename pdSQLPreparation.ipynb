{
  "nbformat": 4,
  "nbformat_minor": 0,
  "metadata": {
    "colab": {
      "name": "pdSQLPreparation.ipynb",
      "provenance": [],
      "authorship_tag": "ABX9TyMGDndbFKvQU+wfEF3iyQ6Q",
      "include_colab_link": true
    },
    "kernelspec": {
      "name": "python3",
      "display_name": "Python 3"
    },
    "language_info": {
      "name": "python"
    }
  },
  "cells": [
    {
      "cell_type": "markdown",
      "metadata": {
        "id": "view-in-github",
        "colab_type": "text"
      },
      "source": [
        "<a href=\"https://colab.research.google.com/github/sabbir179/test2/blob/main/pdSQLPreparation.ipynb\" target=\"_parent\"><img src=\"https://colab.research.google.com/assets/colab-badge.svg\" alt=\"Open In Colab\"/></a>"
      ]
    },
    {
      "cell_type": "code",
      "execution_count": 1,
      "metadata": {
        "id": "A4cIcmPVpJlT"
      },
      "outputs": [],
      "source": [
        "# import pandas library\n",
        "import pandas as pd"
      ]
    },
    {
      "cell_type": "code",
      "source": [
        "#import sqllite\n",
        "import sqlite3"
      ],
      "metadata": {
        "id": "X6EdXzAGpPle"
      },
      "execution_count": 3,
      "outputs": []
    },
    {
      "cell_type": "code",
      "source": [
        "# Create SQL table\n",
        "create_table = \"\"\"\n",
        "CREATE TABLE student_score\n",
        "(Id INTEGER, Name VARCHAR(20), Math REAL, Science REAL\n",
        "); \"\"\""
      ],
      "metadata": {
        "id": "w0pBlS40pUJg"
      },
      "execution_count": 4,
      "outputs": []
    },
    {
      "cell_type": "code",
      "source": [
        "#execute the SQL statment\n",
        "executeSQL = sqlite3.connect(':memory')\n",
        "executeSQL.execute(create_table)\n",
        "executeSQL.commit()"
      ],
      "metadata": {
        "id": "rBzeGzFnp1pH"
      },
      "execution_count": 5,
      "outputs": []
    },
    {
      "cell_type": "code",
      "source": [
        "# prepare a SQL query\n",
        "SQL_query = executeSQL.execute('select * from student_score')"
      ],
      "metadata": {
        "id": "JPBTpxG0qJy2"
      },
      "execution_count": 7,
      "outputs": []
    },
    {
      "cell_type": "code",
      "source": [
        "# fetch result from the SQLlite database\n",
        "resulset = SQL_query.fetchall()"
      ],
      "metadata": {
        "id": "Ku0KgU18qkof"
      },
      "execution_count": 8,
      "outputs": []
    },
    {
      "cell_type": "code",
      "source": [
        "#view result (empty data)\n",
        "resulset"
      ],
      "metadata": {
        "colab": {
          "base_uri": "https://localhost:8080/"
        },
        "id": "alDWS-f9q0Jc",
        "outputId": "b28a371d-65f0-4ae3-f880-d2fcdc5d23bd"
      },
      "execution_count": 9,
      "outputs": [
        {
          "output_type": "execute_result",
          "data": {
            "text/plain": [
              "[]"
            ]
          },
          "metadata": {},
          "execution_count": 9
        }
      ]
    },
    {
      "cell_type": "code",
      "source": [
        ""
      ],
      "metadata": {
        "id": "MCWT7Xh_qdKA"
      },
      "execution_count": null,
      "outputs": []
    }
  ]
}