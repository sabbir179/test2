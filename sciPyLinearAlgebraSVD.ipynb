{
  "nbformat": 4,
  "nbformat_minor": 0,
  "metadata": {
    "colab": {
      "name": "Untitled14.ipynb",
      "provenance": [],
      "authorship_tag": "ABX9TyOqP4FnplQNVm91t8kjbzNR",
      "include_colab_link": true
    },
    "kernelspec": {
      "name": "python3",
      "display_name": "Python 3"
    },
    "language_info": {
      "name": "python"
    }
  },
  "cells": [
    {
      "cell_type": "markdown",
      "metadata": {
        "id": "view-in-github",
        "colab_type": "text"
      },
      "source": [
        "<a href=\"https://colab.research.google.com/github/sabbir179/test2/blob/main/sciPyLinearAlgebraSVD.ipynb\" target=\"_parent\"><img src=\"https://colab.research.google.com/assets/colab-badge.svg\" alt=\"Open In Colab\"/></a>"
      ]
    },
    {
      "cell_type": "markdown",
      "source": [
        "SciPy sub package - Linear Algebra\n",
        "Single value decomposition(svd)"
      ],
      "metadata": {
        "id": "nd-APXNiGdf0"
      }
    },
    {
      "cell_type": "code",
      "source": [
        "# Import linalg\n",
        "import numpy as np\n",
        "from scipy import linalg\n"
      ],
      "metadata": {
        "id": "KljM1kE1Gnya"
      },
      "execution_count": 1,
      "outputs": []
    },
    {
      "cell_type": "code",
      "source": [
        "# Define matrix\n",
        "numSvdArr = np.array ([[3,5,1],[9,5,7]])"
      ],
      "metadata": {
        "id": "VmOecGMzGxMf"
      },
      "execution_count": 2,
      "outputs": []
    },
    {
      "cell_type": "code",
      "source": [
        "# Find shape of ndarray which is 2X3 matrix\n",
        "numSvdArr.shape"
      ],
      "metadata": {
        "colab": {
          "base_uri": "https://localhost:8080/"
        },
        "id": "SWlZQ6GmG9EQ",
        "outputId": "5be81fac-5775-4314-df4c-472f55aa893e"
      },
      "execution_count": 3,
      "outputs": [
        {
          "output_type": "execute_result",
          "data": {
            "text/plain": [
              "(2, 3)"
            ]
          },
          "metadata": {},
          "execution_count": 3
        }
      ]
    },
    {
      "cell_type": "code",
      "source": [
        "# U(Unitary matrix)\n",
        "linalg.svd(numSvdArr)"
      ],
      "metadata": {
        "colab": {
          "base_uri": "https://localhost:8080/"
        },
        "id": "TZtdZjtYHF8y",
        "outputId": "61aa5d48-6dc9-4382-c58b-0e06486e5814"
      },
      "execution_count": 4,
      "outputs": [
        {
          "output_type": "execute_result",
          "data": {
            "text/plain": [
              "(array([[-0.37879831, -0.92547925],\n",
              "        [-0.92547925,  0.37879831]]),\n",
              " array([13.38464336,  3.29413449]),\n",
              " array([[-0.7072066 , -0.4872291 , -0.51231496],\n",
              "        [ 0.19208294, -0.82977932,  0.52399467],\n",
              "        [-0.68041382,  0.27216553,  0.68041382]]))"
            ]
          },
          "metadata": {},
          "execution_count": 4
        }
      ]
    },
    {
      "cell_type": "code",
      "source": [
        ""
      ],
      "metadata": {
        "id": "hcigHpuOHOCF"
      },
      "execution_count": null,
      "outputs": []
    }
  ]
}