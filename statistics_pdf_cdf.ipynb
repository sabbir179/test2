{
  "nbformat": 4,
  "nbformat_minor": 0,
  "metadata": {
    "colab": {
      "name": "statistics_pdf_cdf.ipynb",
      "provenance": [],
      "authorship_tag": "ABX9TyOaUeCtXKnJl5LqJrg/J9wh",
      "include_colab_link": true
    },
    "kernelspec": {
      "name": "python3",
      "display_name": "Python 3"
    },
    "language_info": {
      "name": "python"
    }
  },
  "cells": [
    {
      "cell_type": "markdown",
      "metadata": {
        "id": "view-in-github",
        "colab_type": "text"
      },
      "source": [
        "<a href=\"https://colab.research.google.com/github/sabbir179/test2/blob/main/statistics_pdf_cdf.ipynb\" target=\"_parent\"><img src=\"https://colab.research.google.com/assets/colab-badge.svg\" alt=\"Open In Colab\"/></a>"
      ]
    },
    {
      "cell_type": "markdown",
      "source": [
        "SciPy Sub-package: Statistics"
      ],
      "metadata": {
        "id": "vjouFMgfNt5X"
      }
    },
    {
      "cell_type": "code",
      "source": [
        "# import norm for normal distribution\n",
        "from scipy.stats import norm\n"
      ],
      "metadata": {
        "id": "nJoM4W8hNy_s"
      },
      "execution_count": 1,
      "outputs": []
    },
    {
      "cell_type": "code",
      "source": [
        "# rvs for Random variables\n",
        "norm.rvs(loc=0,scale=1,size=10)"
      ],
      "metadata": {
        "colab": {
          "base_uri": "https://localhost:8080/"
        },
        "id": "PrKRi1qKOKHj",
        "outputId": "9661841c-db7c-4a73-c4d7-53655397ad07"
      },
      "execution_count": 2,
      "outputs": [
        {
          "output_type": "execute_result",
          "data": {
            "text/plain": [
              "array([-0.28697471,  1.84730507,  1.12422971, -0.09577183, -0.29998415,\n",
              "        0.15889995, -1.5409051 , -0.00423626, -2.17115282,  0.0362586 ])"
            ]
          },
          "metadata": {},
          "execution_count": 2
        }
      ]
    },
    {
      "cell_type": "code",
      "source": [
        "# cdf for Cumulative Distribution Function\n",
        "norm.cdf(5,loc=1,scale=2)"
      ],
      "metadata": {
        "colab": {
          "base_uri": "https://localhost:8080/"
        },
        "id": "O8stD9BzOULW",
        "outputId": "053b03e3-6b57-4f54-fa7d-e50bae88503b"
      },
      "execution_count": 3,
      "outputs": [
        {
          "output_type": "execute_result",
          "data": {
            "text/plain": [
              "0.9772498680518208"
            ]
          },
          "metadata": {},
          "execution_count": 3
        }
      ]
    },
    {
      "cell_type": "code",
      "source": [
        "# pdf for Probability Density Function for random distribution\n",
        "norm.pdf(9,loc=0,scale=1)"
      ],
      "metadata": {
        "colab": {
          "base_uri": "https://localhost:8080/"
        },
        "id": "lYtUSDcoOfP-",
        "outputId": "d69193ba-a9e4-4916-e89f-c7820152313a"
      },
      "execution_count": 5,
      "outputs": [
        {
          "output_type": "execute_result",
          "data": {
            "text/plain": [
              "1.0279773571668917e-18"
            ]
          },
          "metadata": {},
          "execution_count": 5
        }
      ]
    }
  ]
}