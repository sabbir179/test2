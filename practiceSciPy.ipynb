{
  "nbformat": 4,
  "nbformat_minor": 0,
  "metadata": {
    "colab": {
      "name": "practiceSciPy.ipynb",
      "provenance": [],
      "collapsed_sections": [],
      "authorship_tag": "ABX9TyNN2fzpJFmdghlLMfXP0Cuw",
      "include_colab_link": true
    },
    "kernelspec": {
      "name": "python3",
      "display_name": "Python 3"
    },
    "language_info": {
      "name": "python"
    }
  },
  "cells": [
    {
      "cell_type": "markdown",
      "metadata": {
        "id": "view-in-github",
        "colab_type": "text"
      },
      "source": [
        "<a href=\"https://colab.research.google.com/github/sabbir179/test2/blob/main/practiceSciPy.ipynb\" target=\"_parent\"><img src=\"https://colab.research.google.com/assets/colab-badge.svg\" alt=\"Open In Colab\"/></a>"
      ]
    },
    {
      "cell_type": "markdown",
      "source": [
        "SciPy Sub-package: Integration"
      ],
      "metadata": {
        "id": "whtz4ZeI1yAC"
      }
    },
    {
      "cell_type": "markdown",
      "source": [
        ""
      ],
      "metadata": {
        "id": "OGM77Qjo4yR3"
      }
    },
    {
      "cell_type": "code",
      "source": [
        "# import quad from integrate sub-package \n",
        "from scipy.integrate import quad"
      ],
      "metadata": {
        "id": "qcCGAd_D15nt"
      },
      "execution_count": 7,
      "outputs": []
    },
    {
      "cell_type": "code",
      "source": [
        "# define funtion for integration of x\n",
        "def integrateFunction(x):\n",
        "  return x"
      ],
      "metadata": {
        "id": "rUvflYVs2Cyb"
      },
      "execution_count": 8,
      "outputs": []
    },
    {
      "cell_type": "code",
      "source": [
        "# Perform quad integration for function of x for limit 0 to 1\n",
        "quad(integrateFunction, 0,1)"
      ],
      "metadata": {
        "colab": {
          "base_uri": "https://localhost:8080/"
        },
        "id": "o2ZbHbNn2LUP",
        "outputId": "c4a8b30d-2bad-4a59-957e-2051fac4e1da"
      },
      "execution_count": 9,
      "outputs": [
        {
          "output_type": "execute_result",
          "data": {
            "text/plain": [
              "(0.5, 5.551115123125783e-15)"
            ]
          },
          "metadata": {},
          "execution_count": 9
        }
      ]
    },
    {
      "cell_type": "code",
      "source": [
        "# Define function for ax+b\n",
        "def integrateFn(x, a,b):\n",
        "  return x*a+b"
      ],
      "metadata": {
        "id": "hXGq0x2N2QZ6"
      },
      "execution_count": 10,
      "outputs": []
    },
    {
      "cell_type": "code",
      "source": [
        "# Declare value of a and b\n",
        "a = 3\n",
        "b = 2"
      ],
      "metadata": {
        "id": "SL_1MOZM2b3K"
      },
      "execution_count": 11,
      "outputs": []
    },
    {
      "cell_type": "code",
      "source": [
        "# Perform quad integration and pass functions and arguments\n",
        "quad(integrateFn, 0,1, args=(a,b))"
      ],
      "metadata": {
        "colab": {
          "base_uri": "https://localhost:8080/"
        },
        "id": "t9rgs_OB2ew4",
        "outputId": "2da086dc-c9fe-4afa-ace1-aeecea6da54d"
      },
      "execution_count": 12,
      "outputs": [
        {
          "output_type": "execute_result",
          "data": {
            "text/plain": [
              "(3.5, 3.885780586188048e-14)"
            ]
          },
          "metadata": {},
          "execution_count": 12
        }
      ]
    },
    {
      "cell_type": "code",
      "source": [
        ""
      ],
      "metadata": {
        "id": "2umt5Mm82m_u"
      },
      "execution_count": null,
      "outputs": []
    }
  ]
}