{
  "nbformat": 4,
  "nbformat_minor": 0,
  "metadata": {
    "colab": {
      "provenance": [],
      "authorship_tag": "ABX9TyN5RxTTXANE64+5d0zkTwT3",
      "include_colab_link": true
    },
    "kernelspec": {
      "name": "python3",
      "display_name": "Python 3"
    },
    "language_info": {
      "name": "python"
    }
  },
  "cells": [
    {
      "cell_type": "markdown",
      "metadata": {
        "id": "view-in-github",
        "colab_type": "text"
      },
      "source": [
        "<a href=\"https://colab.research.google.com/github/sabbir179/test2/blob/main/vectorInPy3.ipynb\" target=\"_parent\"><img src=\"https://colab.research.google.com/assets/colab-badge.svg\" alt=\"Open In Colab\"/></a>"
      ]
    },
    {
      "cell_type": "markdown",
      "source": [
        "**Scalar and vector projection**"
      ],
      "metadata": {
        "id": "W-uR1FU2lEKy"
      }
    },
    {
      "cell_type": "code",
      "source": [
        "import numpy as np\n",
        "from numpy import linalg as lng "
      ],
      "metadata": {
        "id": "5QMZHyJHlgdK"
      },
      "execution_count": 2,
      "outputs": []
    },
    {
      "cell_type": "code",
      "source": [
        "a = np.array([10, 20, 30, 40, 50])\n",
        "b = np.array([60,70,80,90,100])"
      ],
      "metadata": {
        "id": "Khr7yc_sltwk"
      },
      "execution_count": 5,
      "outputs": []
    },
    {
      "cell_type": "code",
      "source": [
        "lng.norm(a)"
      ],
      "metadata": {
        "colab": {
          "base_uri": "https://localhost:8080/"
        },
        "id": "YNmal2KbmBtE",
        "outputId": "dfb5084c-959a-42f8-93fe-5a599d27fcd6"
      },
      "execution_count": 6,
      "outputs": [
        {
          "output_type": "execute_result",
          "data": {
            "text/plain": [
              "74.16198487095663"
            ]
          },
          "metadata": {},
          "execution_count": 6
        }
      ]
    },
    {
      "cell_type": "code",
      "source": [
        " vector_projection = (np.dot(a,b)/np.dot(b,b))*b"
      ],
      "metadata": {
        "id": "BxocwP6WmI5v"
      },
      "execution_count": 7,
      "outputs": []
    },
    {
      "cell_type": "code",
      "source": [
        "print(vector_projection)"
      ],
      "metadata": {
        "colab": {
          "base_uri": "https://localhost:8080/"
        },
        "id": "20eZv1FCmjHK",
        "outputId": "b7fcfdfe-7ad5-4238-e2ab-1fc142593048"
      },
      "execution_count": 8,
      "outputs": [
        {
          "output_type": "stream",
          "name": "stdout",
          "text": [
            "[23.63636364 27.57575758 31.51515152 35.45454545 39.39393939]\n"
          ]
        }
      ]
    },
    {
      "cell_type": "code",
      "source": [],
      "metadata": {
        "id": "fTa-3OJJmntA"
      },
      "execution_count": null,
      "outputs": []
    }
  ]
}