{
  "nbformat": 4,
  "nbformat_minor": 0,
  "metadata": {
    "colab": {
      "name": "ML_PCA.ipynb",
      "provenance": [],
      "authorship_tag": "ABX9TyN23XIMyqQ864vkMMnQNwAH",
      "include_colab_link": true
    },
    "kernelspec": {
      "name": "python3",
      "display_name": "Python 3"
    },
    "language_info": {
      "name": "python"
    }
  },
  "cells": [
    {
      "cell_type": "markdown",
      "metadata": {
        "id": "view-in-github",
        "colab_type": "text"
      },
      "source": [
        "<a href=\"https://colab.research.google.com/github/sabbir179/test2/blob/main/ML_PCA.ipynb\" target=\"_parent\"><img src=\"https://colab.research.google.com/assets/colab-badge.svg\" alt=\"Open In Colab\"/></a>"
      ]
    },
    {
      "cell_type": "code",
      "execution_count": 10,
      "metadata": {
        "id": "HyQyqpV77any"
      },
      "outputs": [],
      "source": [
        "#import required library PCA\n",
        "from sklearn.decomposition import PCA\n",
        "#import the dataset\n",
        "from sklearn.datasets import make_blobs"
      ]
    },
    {
      "cell_type": "code",
      "source": [
        "#define sample and random state\n",
        "n_sample = 20\n",
        "random_state = 20"
      ],
      "metadata": {
        "id": "yUJRloJ-7k9H"
      },
      "execution_count": 11,
      "outputs": []
    },
    {
      "cell_type": "code",
      "source": [
        "# Generate the dataset with 10 features (dimension)\n",
        "X, y = make_blobs(n_samples=n_sample, n_features=10, random_state=None)"
      ],
      "metadata": {
        "id": "zIA1muwJ7omT"
      },
      "execution_count": 13,
      "outputs": []
    },
    {
      "cell_type": "code",
      "source": [
        "#view the shape of the dataset\n",
        "X.shape"
      ],
      "metadata": {
        "colab": {
          "base_uri": "https://localhost:8080/"
        },
        "id": "RYoeDyz57zyQ",
        "outputId": "35c71e09-e89c-472b-b32b-e025cd7b2c0e"
      },
      "execution_count": 14,
      "outputs": [
        {
          "output_type": "execute_result",
          "data": {
            "text/plain": [
              "(20, 10)"
            ]
          },
          "metadata": {},
          "execution_count": 14
        }
      ]
    },
    {
      "cell_type": "code",
      "source": [
        "#define the PCA estimator with number of reduced componets\n",
        "pca = PCA(n_components=3)"
      ],
      "metadata": {
        "id": "GE-27uaw7365"
      },
      "execution_count": 15,
      "outputs": []
    },
    {
      "cell_type": "code",
      "source": [
        "#fit the data into the PCA estimator\n",
        "pca.fit(X)\n",
        "print (pca.explained_variance_ratio_)"
      ],
      "metadata": {
        "colab": {
          "base_uri": "https://localhost:8080/"
        },
        "id": "K0IHWlAC7-dr",
        "outputId": "aa168dc8-a10a-4c0a-9517-5636d7e91ed2"
      },
      "execution_count": 17,
      "outputs": [
        {
          "output_type": "stream",
          "name": "stdout",
          "text": [
            "[0.61497621 0.33420036 0.0175158 ]\n"
          ]
        }
      ]
    },
    {
      "cell_type": "code",
      "source": [
        "#print the first PCA component\n",
        "first_pca = pca.components_[0]\n",
        "print (first_pca)"
      ],
      "metadata": {
        "colab": {
          "base_uri": "https://localhost:8080/"
        },
        "id": "Aclk83bZ8DvU",
        "outputId": "51f9045b-84ad-42bb-c3ce-813e93a9755e"
      },
      "execution_count": 19,
      "outputs": [
        {
          "output_type": "stream",
          "name": "stdout",
          "text": [
            "[-0.03119642 -0.34301618 -0.38039727  0.28608941  0.20373487 -0.16574478\n",
            "  0.36124186 -0.44484479  0.05636535 -0.50426044]\n"
          ]
        }
      ]
    },
    {
      "cell_type": "code",
      "source": [
        "#transform the fitter data using transform method\n",
        "pca_reduced = pca.transform(X)"
      ],
      "metadata": {
        "id": "YAgmR3ON8H09"
      },
      "execution_count": 21,
      "outputs": []
    },
    {
      "cell_type": "code",
      "source": [
        "#view the reduced shape(lower dimension)\n",
        "pca_reduced.shape"
      ],
      "metadata": {
        "colab": {
          "base_uri": "https://localhost:8080/"
        },
        "id": "ibtIaxfg8O1d",
        "outputId": "a017cde9-dc43-46d9-d9a3-faeb93d96a5b"
      },
      "execution_count": 23,
      "outputs": [
        {
          "output_type": "execute_result",
          "data": {
            "text/plain": [
              "(20, 3)"
            ]
          },
          "metadata": {},
          "execution_count": 23
        }
      ]
    }
  ]
}