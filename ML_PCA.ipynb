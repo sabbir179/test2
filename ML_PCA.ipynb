{
  "nbformat": 4,
  "nbformat_minor": 0,
  "metadata": {
    "colab": {
      "name": "ML_PCA.ipynb",
      "provenance": [],
      "authorship_tag": "ABX9TyNRmUU783CXRZZTse/zVhkQ",
      "include_colab_link": true
    },
    "kernelspec": {
      "name": "python3",
      "display_name": "Python 3"
    },
    "language_info": {
      "name": "python"
    }
  },
  "cells": [
    {
      "cell_type": "markdown",
      "metadata": {
        "id": "view-in-github",
        "colab_type": "text"
      },
      "source": [
        "<a href=\"https://colab.research.google.com/github/sabbir179/test2/blob/main/ML_PCA.ipynb\" target=\"_parent\"><img src=\"https://colab.research.google.com/assets/colab-badge.svg\" alt=\"Open In Colab\"/></a>"
      ]
    },
    {
      "cell_type": "code",
      "execution_count": 2,
      "metadata": {
        "id": "JvYiQSBlmB8w"
      },
      "outputs": [],
      "source": [
        "#import required library PCA\n",
        "from sklearn.decomposition import PCA\n",
        "#import the dataset\n",
        "from sklearn.datasets import make_blobs\n"
      ]
    },
    {
      "cell_type": "code",
      "source": [
        "#define sample and random state\n",
        "n_sample = 20\n",
        "random_state = 20"
      ],
      "metadata": {
        "id": "GNsRTuWOnCOz"
      },
      "execution_count": 3,
      "outputs": []
    },
    {
      "cell_type": "code",
      "source": [
        "#Generate the dataset with 10 features (dimension)\n",
        "X, y = make_blobs(n_samples=n_sample, n_features=10, random_state=None)"
      ],
      "metadata": {
        "id": "Ll1VdCuFnMkj"
      },
      "execution_count": 4,
      "outputs": []
    },
    {
      "cell_type": "code",
      "source": [
        "#view the shape of the dataset\n",
        "X.shape"
      ],
      "metadata": {
        "colab": {
          "base_uri": "https://localhost:8080/"
        },
        "id": "oKi3DGSAn8yQ",
        "outputId": "04a62493-d795-4cd5-9f0a-c0c7c8dc6f09"
      },
      "execution_count": 5,
      "outputs": [
        {
          "output_type": "execute_result",
          "data": {
            "text/plain": [
              "(20, 10)"
            ]
          },
          "metadata": {},
          "execution_count": 5
        }
      ]
    },
    {
      "cell_type": "code",
      "source": [
        "#define the PCA estimator with number of reduced components\n",
        "pca = PCA(n_components=3)"
      ],
      "metadata": {
        "id": "anHLSluKoEZm"
      },
      "execution_count": 6,
      "outputs": []
    },
    {
      "cell_type": "code",
      "source": [
        "#fit the data into the PCA estimator\n",
        "pca.fit(X)\n",
        "print(pca.explained_variance_ratio_)"
      ],
      "metadata": {
        "colab": {
          "base_uri": "https://localhost:8080/"
        },
        "id": "EUbr4U4KodUf",
        "outputId": "b4556018-0e66-4ba6-c012-f33f5beddeb0"
      },
      "execution_count": 7,
      "outputs": [
        {
          "output_type": "stream",
          "name": "stdout",
          "text": [
            "[0.66501927 0.30855335 0.00841938]\n"
          ]
        }
      ]
    },
    {
      "cell_type": "code",
      "source": [
        "#print the first PCA component\n",
        "first_pca = pca.components_[0]\n",
        "print (first_pca)"
      ],
      "metadata": {
        "colab": {
          "base_uri": "https://localhost:8080/"
        },
        "id": "WDjGZKM4oqLB",
        "outputId": "bcc1f604-6899-40b1-d248-c1297d49e630"
      },
      "execution_count": 8,
      "outputs": [
        {
          "output_type": "stream",
          "name": "stdout",
          "text": [
            "[-0.29233057  0.55897708  0.05102289  0.36744086 -0.242452   -0.16488827\n",
            " -0.54092083 -0.04270494  0.25216717  0.14315338]\n"
          ]
        }
      ]
    },
    {
      "cell_type": "code",
      "source": [
        "#transform the fitted data using transform method\n",
        "pca_reduced = pca.transform(X)"
      ],
      "metadata": {
        "id": "e0Ycf4IAo91D"
      },
      "execution_count": 9,
      "outputs": []
    },
    {
      "cell_type": "code",
      "source": [
        "#view the reduced shape (lower dimension)\n",
        "pca_reduced.shape"
      ],
      "metadata": {
        "colab": {
          "base_uri": "https://localhost:8080/"
        },
        "id": "HKBhoFNipQmr",
        "outputId": "5e69937f-7e10-4b2d-decb-7dfd26b0e99c"
      },
      "execution_count": 11,
      "outputs": [
        {
          "output_type": "execute_result",
          "data": {
            "text/plain": [
              "(20, 3)"
            ]
          },
          "metadata": {},
          "execution_count": 11
        }
      ]
    },
    {
      "cell_type": "code",
      "source": [
        ""
      ],
      "metadata": {
        "id": "i-ZueogErJpq"
      },
      "execution_count": null,
      "outputs": []
    }
  ]
}