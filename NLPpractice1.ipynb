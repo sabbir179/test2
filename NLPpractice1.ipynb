{
  "nbformat": 4,
  "nbformat_minor": 0,
  "metadata": {
    "colab": {
      "name": "NLPpractice1.ipynb",
      "provenance": [],
      "authorship_tag": "ABX9TyO68N3FFv1nLYxsFfFBTW0E",
      "include_colab_link": true
    },
    "kernelspec": {
      "name": "python3",
      "display_name": "Python 3"
    },
    "language_info": {
      "name": "python"
    }
  },
  "cells": [
    {
      "cell_type": "markdown",
      "metadata": {
        "id": "view-in-github",
        "colab_type": "text"
      },
      "source": [
        "<a href=\"https://colab.research.google.com/github/sabbir179/test2/blob/main/NLPpractice1.ipynb\" target=\"_parent\"><img src=\"https://colab.research.google.com/assets/colab-badge.svg\" alt=\"Open In Colab\"/></a>"
      ]
    },
    {
      "cell_type": "markdown",
      "source": [
        "Eliminate punctuation and stopwords from the sentence"
      ],
      "metadata": {
        "id": "P-EtxoX1T9Wu"
      }
    },
    {
      "cell_type": "code",
      "source": [
        "#import required library\n",
        "import nltk\n",
        "nltk.download('stopwords')\n",
        "import string\n",
        "from nltk.corpus import stopwords"
      ],
      "metadata": {
        "colab": {
          "base_uri": "https://localhost:8080/"
        },
        "id": "ULn7yoL5UE1Q",
        "outputId": "f3a54c23-830c-41e1-9533-e9c70137f890"
      },
      "execution_count": 4,
      "outputs": [
        {
          "output_type": "stream",
          "name": "stdout",
          "text": [
            "[nltk_data] Downloading package stopwords to /root/nltk_data...\n",
            "[nltk_data]   Unzipping corpora/stopwords.zip.\n"
          ]
        }
      ]
    },
    {
      "cell_type": "code",
      "source": [
        "#view first 10 stopwords present in the english corpus\n",
        "stopwords.words('english')[0:10]\n",
        "\n"
      ],
      "metadata": {
        "colab": {
          "base_uri": "https://localhost:8080/"
        },
        "id": "rtd-nkNhUZOb",
        "outputId": "c4e00ad5-c145-4834-ce08-f66d77932c5e"
      },
      "execution_count": 7,
      "outputs": [
        {
          "output_type": "execute_result",
          "data": {
            "text/plain": [
              "['i', 'me', 'my', 'myself', 'we', 'our', 'ours', 'ourselves', 'you', \"you're\"]"
            ]
          },
          "metadata": {},
          "execution_count": 7
        }
      ]
    },
    {
      "cell_type": "code",
      "source": [
        "#create a test sentence\n",
        "test_sentence = 'This is my first test string. Wow!! we are doing just fine'"
      ],
      "metadata": {
        "id": "bqxO9XC8W5a1"
      },
      "execution_count": 8,
      "outputs": []
    },
    {
      "cell_type": "code",
      "source": [
        "#eliminate the punctuation in form of characters and print them\n",
        "no_punctuation = [char for char in test_sentence if char not in string.punctuation]\n",
        "no_punctuation"
      ],
      "metadata": {
        "colab": {
          "base_uri": "https://localhost:8080/"
        },
        "id": "gLgmd9oAXfdV",
        "outputId": "a13555a0-ce92-4753-f709-5dff7cfffda7"
      },
      "execution_count": 9,
      "outputs": [
        {
          "output_type": "execute_result",
          "data": {
            "text/plain": [
              "['T',\n",
              " 'h',\n",
              " 'i',\n",
              " 's',\n",
              " ' ',\n",
              " 'i',\n",
              " 's',\n",
              " ' ',\n",
              " 'm',\n",
              " 'y',\n",
              " ' ',\n",
              " 'f',\n",
              " 'i',\n",
              " 'r',\n",
              " 's',\n",
              " 't',\n",
              " ' ',\n",
              " 't',\n",
              " 'e',\n",
              " 's',\n",
              " 't',\n",
              " ' ',\n",
              " 's',\n",
              " 't',\n",
              " 'r',\n",
              " 'i',\n",
              " 'n',\n",
              " 'g',\n",
              " ' ',\n",
              " 'W',\n",
              " 'o',\n",
              " 'w',\n",
              " ' ',\n",
              " 'w',\n",
              " 'e',\n",
              " ' ',\n",
              " 'a',\n",
              " 'r',\n",
              " 'e',\n",
              " ' ',\n",
              " 'd',\n",
              " 'o',\n",
              " 'i',\n",
              " 'n',\n",
              " 'g',\n",
              " ' ',\n",
              " 'j',\n",
              " 'u',\n",
              " 's',\n",
              " 't',\n",
              " ' ',\n",
              " 'f',\n",
              " 'i',\n",
              " 'n',\n",
              " 'e']"
            ]
          },
          "metadata": {},
          "execution_count": 9
        }
      ]
    },
    {
      "cell_type": "code",
      "source": [
        "#now eliminate the punctuation and print them as a whole sentence\n",
        "no_punctuation = ''.join(no_punctuation)\n",
        "no_punctuation"
      ],
      "metadata": {
        "colab": {
          "base_uri": "https://localhost:8080/",
          "height": 35
        },
        "id": "GrvDb9dZX6o0",
        "outputId": "7bab197f-1cdc-4d81-ea04-9e2a3c0663b8"
      },
      "execution_count": 10,
      "outputs": [
        {
          "output_type": "execute_result",
          "data": {
            "text/plain": [
              "'This is my first test string Wow we are doing just fine'"
            ],
            "application/vnd.google.colaboratory.intrinsic+json": {
              "type": "string"
            }
          },
          "metadata": {},
          "execution_count": 10
        }
      ]
    },
    {
      "cell_type": "markdown",
      "source": [
        "Step- 2"
      ],
      "metadata": {
        "id": "OfNBruk2hjbH"
      }
    },
    {
      "cell_type": "code",
      "source": [
        "#split each words present in the new sentence\n",
        "no_punctuation.split()"
      ],
      "metadata": {
        "colab": {
          "base_uri": "https://localhost:8080/"
        },
        "id": "PRhiogiTYTSb",
        "outputId": "5499f0f4-9975-4fa4-8e80-21a57e4a6a83"
      },
      "execution_count": 11,
      "outputs": [
        {
          "output_type": "execute_result",
          "data": {
            "text/plain": [
              "['This',\n",
              " 'is',\n",
              " 'my',\n",
              " 'first',\n",
              " 'test',\n",
              " 'string',\n",
              " 'Wow',\n",
              " 'we',\n",
              " 'are',\n",
              " 'doing',\n",
              " 'just',\n",
              " 'fine']"
            ]
          },
          "metadata": {},
          "execution_count": 11
        }
      ]
    },
    {
      "cell_type": "code",
      "source": [
        "#Now eliminate stopwords\n",
        "clean_sentence = [word for word in no_punctuation.split() if word.lower() not in stopwords.words('english')]"
      ],
      "metadata": {
        "id": "Stnl_jnahv7D"
      },
      "execution_count": 12,
      "outputs": []
    },
    {
      "cell_type": "code",
      "source": [
        "#print the final cleaned sentence\n",
        "clean_sentence"
      ],
      "metadata": {
        "colab": {
          "base_uri": "https://localhost:8080/"
        },
        "id": "5tTUwci-iNhk",
        "outputId": "cd2fcb82-94bb-4968-8baf-900cb9ff359e"
      },
      "execution_count": 13,
      "outputs": [
        {
          "output_type": "execute_result",
          "data": {
            "text/plain": [
              "['first', 'test', 'string', 'Wow', 'fine']"
            ]
          },
          "metadata": {},
          "execution_count": 13
        }
      ]
    },
    {
      "cell_type": "code",
      "source": [
        ""
      ],
      "metadata": {
        "id": "HVjUwJsbiXRL"
      },
      "execution_count": null,
      "outputs": []
    }
  ]
}