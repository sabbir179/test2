{
  "nbformat": 4,
  "nbformat_minor": 0,
  "metadata": {
    "colab": {
      "name": "py3.ipynb",
      "provenance": [],
      "authorship_tag": "ABX9TyMz3Xi+nUiV+lBvRNPMQEQA",
      "include_colab_link": true
    },
    "kernelspec": {
      "name": "python3",
      "display_name": "Python 3"
    },
    "language_info": {
      "name": "python"
    }
  },
  "cells": [
    {
      "cell_type": "markdown",
      "metadata": {
        "id": "view-in-github",
        "colab_type": "text"
      },
      "source": [
        "<a href=\"https://colab.research.google.com/github/sabbir179/test2/blob/main/py3.ipynb\" target=\"_parent\"><img src=\"https://colab.research.google.com/assets/colab-badge.svg\" alt=\"Open In Colab\"/></a>"
      ]
    },
    {
      "cell_type": "code",
      "execution_count": 4,
      "metadata": {
        "id": "QD7mGdQBoFEN"
      },
      "outputs": [],
      "source": [
        "store_list = ['McDonnald', 'Taco Bell', 'Dunkin', 'Wendys', 'Chipole']"
      ]
    },
    {
      "cell_type": "code",
      "source": [
        "for position, name in enumerate(store_list):\n",
        "  print (position, name)"
      ],
      "metadata": {
        "colab": {
          "base_uri": "https://localhost:8080/"
        },
        "id": "wlBUTcl0oPqn",
        "outputId": "27db6f96-0321-477a-f819-305d54e97b08"
      },
      "execution_count": 5,
      "outputs": [
        {
          "output_type": "stream",
          "name": "stdout",
          "text": [
            "0 McDonnald\n",
            "1 Taco Bell\n",
            "2 Dunkin\n",
            "3 Wendys\n",
            "4 Chipole\n"
          ]
        }
      ]
    },
    {
      "cell_type": "code",
      "source": [
        "store_map = dict((name, position) for position, name in enumerate(store_list))"
      ],
      "metadata": {
        "id": "HWsHMqx-oj9r"
      },
      "execution_count": 8,
      "outputs": []
    },
    {
      "cell_type": "code",
      "source": [
        "store_map"
      ],
      "metadata": {
        "colab": {
          "base_uri": "https://localhost:8080/"
        },
        "id": "qEd3t4sqog4A",
        "outputId": "147a953d-78e2-4eb1-d8eb-4489bd9ee561"
      },
      "execution_count": 10,
      "outputs": [
        {
          "output_type": "execute_result",
          "data": {
            "text/plain": [
              "{'Chipole': 4, 'Dunkin': 2, 'McDonnald': 0, 'Taco Bell': 1, 'Wendys': 3}"
            ]
          },
          "metadata": {},
          "execution_count": 10
        }
      ]
    },
    {
      "cell_type": "markdown",
      "source": [
        "Control flow: Excepetion Handling"
      ],
      "metadata": {
        "id": "b-zM2Y3yvZLU"
      }
    },
    {
      "cell_type": "code",
      "source": [
        "def test_float(number):\n",
        "  return float(number)"
      ],
      "metadata": {
        "id": "CeDI45EVvecT"
      },
      "execution_count": 11,
      "outputs": []
    },
    {
      "cell_type": "code",
      "source": [
        "test_float(3.42)"
      ],
      "metadata": {
        "colab": {
          "base_uri": "https://localhost:8080/"
        },
        "id": "MFDgFq7fvmnx",
        "outputId": "344a28ff-9be5-4817-acf8-a9357d8dc482"
      },
      "execution_count": 12,
      "outputs": [
        {
          "output_type": "execute_result",
          "data": {
            "text/plain": [
              "3.42"
            ]
          },
          "metadata": {},
          "execution_count": 12
        }
      ]
    },
    {
      "cell_type": "code",
      "source": [
        "test_float('how r u boss?')"
      ],
      "metadata": {
        "colab": {
          "base_uri": "https://localhost:8080/",
          "height": 240
        },
        "id": "E7hW3bOBvqFC",
        "outputId": "9b5e8fef-ac70-4faf-ad22-7ec751d270c5"
      },
      "execution_count": 13,
      "outputs": [
        {
          "output_type": "error",
          "ename": "ValueError",
          "evalue": "ignored",
          "traceback": [
            "\u001b[0;31m---------------------------------------------------------------------------\u001b[0m",
            "\u001b[0;31mValueError\u001b[0m                                Traceback (most recent call last)",
            "\u001b[0;32m<ipython-input-13-4e053d0725d6>\u001b[0m in \u001b[0;36m<module>\u001b[0;34m()\u001b[0m\n\u001b[0;32m----> 1\u001b[0;31m \u001b[0mtest_float\u001b[0m\u001b[0;34m(\u001b[0m\u001b[0;34m'how r u boss?'\u001b[0m\u001b[0;34m)\u001b[0m\u001b[0;34m\u001b[0m\u001b[0;34m\u001b[0m\u001b[0m\n\u001b[0m",
            "\u001b[0;32m<ipython-input-11-6ac0cc23204d>\u001b[0m in \u001b[0;36mtest_float\u001b[0;34m(number)\u001b[0m\n\u001b[1;32m      1\u001b[0m \u001b[0;32mdef\u001b[0m \u001b[0mtest_float\u001b[0m\u001b[0;34m(\u001b[0m\u001b[0mnumber\u001b[0m\u001b[0;34m)\u001b[0m\u001b[0;34m:\u001b[0m\u001b[0;34m\u001b[0m\u001b[0;34m\u001b[0m\u001b[0m\n\u001b[0;32m----> 2\u001b[0;31m   \u001b[0;32mreturn\u001b[0m \u001b[0mfloat\u001b[0m\u001b[0;34m(\u001b[0m\u001b[0mnumber\u001b[0m\u001b[0;34m)\u001b[0m\u001b[0;34m\u001b[0m\u001b[0;34m\u001b[0m\u001b[0m\n\u001b[0m",
            "\u001b[0;31mValueError\u001b[0m: could not convert string to float: 'how r u boss?'"
          ]
        }
      ]
    },
    {
      "cell_type": "code",
      "source": [
        "def test_float(number):\n",
        "  try:\n",
        "    return float(number)\n",
        "  except ValueError:\n",
        "    return 'not number, the input value is', number"
      ],
      "metadata": {
        "id": "uDr0ifWDvxxE"
      },
      "execution_count": 14,
      "outputs": []
    },
    {
      "cell_type": "code",
      "source": [
        "test_float('how r u')"
      ],
      "metadata": {
        "colab": {
          "base_uri": "https://localhost:8080/"
        },
        "id": "EAG_S2s-w6nd",
        "outputId": "9b207382-5689-4657-b6ff-b39ba2da49cf"
      },
      "execution_count": 15,
      "outputs": [
        {
          "output_type": "execute_result",
          "data": {
            "text/plain": [
              "('not number, the input value is', 'how r u')"
            ]
          },
          "metadata": {},
          "execution_count": 15
        }
      ]
    },
    {
      "cell_type": "code",
      "source": [
        ""
      ],
      "metadata": {
        "id": "FhlI-QmuxAtQ"
      },
      "execution_count": null,
      "outputs": []
    },
    {
      "cell_type": "code",
      "source": [
        ""
      ],
      "metadata": {
        "id": "HNALbg_Ovm1W"
      },
      "execution_count": null,
      "outputs": []
    },
    {
      "cell_type": "code",
      "source": [
        ""
      ],
      "metadata": {
        "id": "ft3Kwl-vvVWW"
      },
      "execution_count": null,
      "outputs": []
    }
  ]
}