{
  "nbformat": 4,
  "nbformat_minor": 0,
  "metadata": {
    "colab": {
      "name": "ML_Pipeline.ipynb",
      "provenance": [],
      "authorship_tag": "ABX9TyOSH5PqXAzVPMBl45Jo1sXu",
      "include_colab_link": true
    },
    "kernelspec": {
      "name": "python3",
      "display_name": "Python 3"
    },
    "language_info": {
      "name": "python"
    }
  },
  "cells": [
    {
      "cell_type": "markdown",
      "metadata": {
        "id": "view-in-github",
        "colab_type": "text"
      },
      "source": [
        "<a href=\"https://colab.research.google.com/github/sabbir179/test2/blob/main/ML_Pipeline.ipynb\" target=\"_parent\"><img src=\"https://colab.research.google.com/assets/colab-badge.svg\" alt=\"Open In Colab\"/></a>"
      ]
    },
    {
      "cell_type": "code",
      "execution_count": null,
      "metadata": {
        "id": "TMpkhJeS_lCC"
      },
      "outputs": [],
      "source": [
        ""
      ]
    },
    {
      "cell_type": "markdown",
      "source": [
        "Import the required libraries and models(estimators)"
      ],
      "metadata": {
        "id": "JvJkE5GS_qp3"
      }
    },
    {
      "cell_type": "code",
      "source": [
        "# import pipline class\n",
        "from sklearn.pipeline import Pipeline\n",
        "\n",
        "# import linear estimator\n",
        "from sklearn.linear_model import LinearRegression\n",
        "\n",
        "# import PCA estimator for dimensianality reduction\n",
        "from sklearn.decomposition import PCA\n"
      ],
      "metadata": {
        "id": "SG1C87IJ_zUs"
      },
      "execution_count": 2,
      "outputs": []
    },
    {
      "cell_type": "markdown",
      "source": [
        "Chain the estimators together"
      ],
      "metadata": {
        "id": "9ognqERcAplK"
      }
    },
    {
      "cell_type": "code",
      "source": [
        "estimator =[('dim_reduction', PCA()), ('linear_model', LinearRegression())]"
      ],
      "metadata": {
        "id": "8oObtjWxAu-u"
      },
      "execution_count": 3,
      "outputs": []
    },
    {
      "cell_type": "markdown",
      "source": [
        "Put the chain of estimators in the pipeline object"
      ],
      "metadata": {
        "id": "45iA_aV6BEeg"
      }
    },
    {
      "cell_type": "code",
      "source": [
        "pipeline_estimator = Pipeline(estimator)"
      ],
      "metadata": {
        "id": "8-dKUrM0BKfm"
      },
      "execution_count": 4,
      "outputs": []
    },
    {
      "cell_type": "markdown",
      "source": [
        "Check the chain of estimators"
      ],
      "metadata": {
        "id": "lqA-_RIBBYgh"
      }
    },
    {
      "cell_type": "code",
      "source": [
        "pipeline_estimator"
      ],
      "metadata": {
        "colab": {
          "base_uri": "https://localhost:8080/"
        },
        "id": "MI_5GHevBcvf",
        "outputId": "f098a6eb-15a2-4a21-d82e-3c35bdeefc1b"
      },
      "execution_count": 5,
      "outputs": [
        {
          "output_type": "execute_result",
          "data": {
            "text/plain": [
              "Pipeline(steps=[('dim_reduction', PCA()), ('linear_model', LinearRegression())])"
            ]
          },
          "metadata": {},
          "execution_count": 5
        }
      ]
    },
    {
      "cell_type": "markdown",
      "source": [
        "View first step"
      ],
      "metadata": {
        "id": "1pkptddmB6fR"
      }
    },
    {
      "cell_type": "code",
      "source": [
        "pipeline_estimator.steps[0]"
      ],
      "metadata": {
        "colab": {
          "base_uri": "https://localhost:8080/"
        },
        "id": "Z6jyZWgtB86F",
        "outputId": "5ac96700-9301-4877-a08b-6519b38dd45d"
      },
      "execution_count": 6,
      "outputs": [
        {
          "output_type": "execute_result",
          "data": {
            "text/plain": [
              "('dim_reduction', PCA())"
            ]
          },
          "metadata": {},
          "execution_count": 6
        }
      ]
    },
    {
      "cell_type": "markdown",
      "source": [
        "View second step"
      ],
      "metadata": {
        "id": "V9VYWrupCLz4"
      }
    },
    {
      "cell_type": "code",
      "source": [
        "pipeline_estimator.steps[1]"
      ],
      "metadata": {
        "colab": {
          "base_uri": "https://localhost:8080/"
        },
        "id": "93bvq5j-COQU",
        "outputId": "1d9b432a-5c80-420b-db5f-16e6193c31de"
      },
      "execution_count": 7,
      "outputs": [
        {
          "output_type": "execute_result",
          "data": {
            "text/plain": [
              "('linear_model', LinearRegression())"
            ]
          },
          "metadata": {},
          "execution_count": 7
        }
      ]
    },
    {
      "cell_type": "markdown",
      "source": [
        "View all the steps in pipleline"
      ],
      "metadata": {
        "id": "fwo2ZEG9CSjH"
      }
    },
    {
      "cell_type": "code",
      "source": [
        "pipeline_estimator.steps"
      ],
      "metadata": {
        "colab": {
          "base_uri": "https://localhost:8080/"
        },
        "id": "gOq1PYuICWNr",
        "outputId": "0f889d0e-acf7-45ae-9844-071f783c3b0a"
      },
      "execution_count": 8,
      "outputs": [
        {
          "output_type": "execute_result",
          "data": {
            "text/plain": [
              "[('dim_reduction', PCA()), ('linear_model', LinearRegression())]"
            ]
          },
          "metadata": {},
          "execution_count": 8
        }
      ]
    },
    {
      "cell_type": "code",
      "source": [
        ""
      ],
      "metadata": {
        "id": "6wwtL3s7CdCB"
      },
      "execution_count": null,
      "outputs": []
    },
    {
      "cell_type": "code",
      "source": [
        ""
      ],
      "metadata": {
        "id": "3tRk2dOWCRc2"
      },
      "execution_count": null,
      "outputs": []
    },
    {
      "cell_type": "code",
      "source": [
        ""
      ],
      "metadata": {
        "id": "6hkHo0jqCIna"
      },
      "execution_count": null,
      "outputs": []
    },
    {
      "cell_type": "code",
      "source": [
        ""
      ],
      "metadata": {
        "id": "ZImO7yNeB5XR"
      },
      "execution_count": null,
      "outputs": []
    },
    {
      "cell_type": "code",
      "source": [
        ""
      ],
      "metadata": {
        "id": "_erq3e1IBTsH"
      },
      "execution_count": null,
      "outputs": []
    }
  ]
}