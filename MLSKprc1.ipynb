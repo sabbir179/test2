{
  "nbformat": 4,
  "nbformat_minor": 0,
  "metadata": {
    "colab": {
      "name": "MLSKprc1.ipynb",
      "provenance": [],
      "authorship_tag": "ABX9TyOw0QEnxUMoDBuuhHJ3U4pn",
      "include_colab_link": true
    },
    "kernelspec": {
      "name": "python3",
      "display_name": "Python 3"
    },
    "language_info": {
      "name": "python"
    }
  },
  "cells": [
    {
      "cell_type": "markdown",
      "metadata": {
        "id": "view-in-github",
        "colab_type": "text"
      },
      "source": [
        "<a href=\"https://colab.research.google.com/github/sabbir179/test2/blob/main/MLSKprc1.ipynb\" target=\"_parent\"><img src=\"https://colab.research.google.com/assets/colab-badge.svg\" alt=\"Open In Colab\"/></a>"
      ]
    },
    {
      "cell_type": "code",
      "execution_count": 2,
      "metadata": {
        "id": "YJeZWo3B2vvb"
      },
      "outputs": [],
      "source": [
        "#import require libraries\n",
        "import numpy as np \n",
        "\n",
        "# import KMeans class from sklearn.cluster\n",
        "from sklearn.cluster import KMeans \n",
        "\n",
        "#import make_blobs dataset from sklearn.cluster\n",
        "from sklearn.datasets import make_blobs\n"
      ]
    },
    {
      "cell_type": "code",
      "source": [
        "#define number of samples\n",
        "n_samples = 300\n",
        "#define random state value to initialize the center\n",
        "random_state = 20\n",
        "#define number of feature as 5\n",
        "X,y = make_blobs(n_samples=n_samples, n_features=5, random_state=None)\n",
        "#define number of cluster to be formed as 3 and in random state and fit features into the model\n",
        "predict_y = KMeans(n_clusters=3, random_state=random_state).fit_predict(X)\n",
        "#print the estimator prediction\n",
        "predict_y "
      ],
      "metadata": {
        "colab": {
          "base_uri": "https://localhost:8080/"
        },
        "id": "VzlBCZyd3D7_",
        "outputId": "2915bb67-20dd-4536-f810-83f56eb81d24"
      },
      "execution_count": 3,
      "outputs": [
        {
          "output_type": "execute_result",
          "data": {
            "text/plain": [
              "array([0, 0, 2, 0, 2, 1, 0, 2, 0, 2, 2, 1, 2, 1, 1, 1, 2, 0, 1, 2, 0, 0,\n",
              "       0, 2, 1, 2, 0, 2, 2, 2, 2, 2, 2, 2, 2, 1, 0, 1, 0, 2, 0, 1, 2, 2,\n",
              "       0, 2, 2, 0, 1, 1, 2, 0, 2, 0, 2, 1, 1, 0, 2, 0, 0, 0, 2, 0, 1, 1,\n",
              "       0, 0, 1, 0, 2, 0, 1, 1, 1, 1, 0, 0, 0, 2, 0, 1, 1, 2, 0, 0, 0, 1,\n",
              "       2, 0, 2, 0, 2, 1, 0, 2, 0, 2, 1, 1, 1, 0, 2, 2, 1, 2, 2, 1, 1, 1,\n",
              "       1, 0, 1, 2, 1, 2, 0, 2, 1, 1, 0, 2, 1, 0, 1, 0, 2, 2, 2, 2, 1, 0,\n",
              "       0, 1, 2, 2, 0, 0, 1, 1, 1, 0, 2, 1, 1, 1, 2, 2, 2, 2, 2, 2, 1, 1,\n",
              "       1, 2, 2, 1, 0, 2, 0, 2, 2, 1, 0, 1, 2, 1, 2, 1, 2, 0, 0, 0, 2, 1,\n",
              "       2, 1, 1, 1, 0, 0, 2, 2, 1, 0, 0, 0, 0, 2, 0, 0, 2, 2, 2, 1, 1, 0,\n",
              "       1, 1, 0, 1, 0, 0, 1, 0, 0, 1, 1, 2, 0, 2, 2, 0, 1, 2, 1, 0, 2, 0,\n",
              "       0, 2, 0, 1, 0, 2, 2, 0, 0, 2, 2, 0, 1, 1, 2, 1, 0, 2, 2, 1, 0, 0,\n",
              "       2, 0, 0, 0, 0, 1, 1, 1, 1, 0, 0, 2, 2, 1, 1, 1, 0, 1, 0, 1, 2, 2,\n",
              "       1, 2, 1, 2, 1, 2, 0, 0, 1, 1, 0, 2, 2, 1, 1, 2, 1, 0, 2, 1, 1, 1,\n",
              "       0, 2, 1, 0, 1, 1, 0, 0, 2, 1, 0, 1, 0, 0], dtype=int32)"
            ]
          },
          "metadata": {},
          "execution_count": 3
        }
      ]
    }
  ]
}